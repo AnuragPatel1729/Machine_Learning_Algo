{
 "cells": [
  {
   "cell_type": "code",
   "execution_count": 1,
   "id": "979e56a9",
   "metadata": {},
   "outputs": [],
   "source": [
    "import requests\n",
    "import base64"
   ]
  },
  {
   "cell_type": "code",
   "execution_count": 2,
   "id": "f53b62ff",
   "metadata": {},
   "outputs": [],
   "source": [
    "CLIENT_ID = '3aec1eb039564827933c5f0f3d62fae8'\n",
    "CLIENT_SECRET = '29d043ca3108451c92d4a5907b73e1dd'"
   ]
  },
  {
   "cell_type": "code",
   "execution_count": 3,
   "id": "c87b3332",
   "metadata": {},
   "outputs": [],
   "source": [
    "client_credentials = f\"{CLIENT_ID}:{CLIENT_SECRET}\"\n",
    "client_credentials_base64 = base64.b64encode(client_credentials.encode())"
   ]
  },
  {
   "cell_type": "code",
   "execution_count": 4,
   "id": "b463313e",
   "metadata": {},
   "outputs": [
    {
     "name": "stdout",
     "output_type": "stream",
     "text": [
      "Access token obtained successfully.\n"
     ]
    }
   ],
   "source": [
    "token_url = 'https://accounts.spotify.com/api/token'\n",
    "headers = {\n",
    "    'Authorization': f'Basic {client_credentials_base64.decode()}'\n",
    "}\n",
    "data = {\n",
    "    'grant_type': 'client_credentials'\n",
    "}\n",
    "response = requests.post(token_url, data=data, headers=headers)\n",
    "\n",
    "if response.status_code == 200:\n",
    "    access_token = response.json()['access_token']\n",
    "    print(\"Access token obtained successfully.\")\n",
    "else:\n",
    "    print(\"Error obtaining access token.\")\n",
    "    exit()"
   ]
  },
  {
   "cell_type": "code",
   "execution_count": 9,
   "id": "743b455a",
   "metadata": {},
   "outputs": [
    {
     "name": "stdout",
     "output_type": "stream",
     "text": [
      "Collecting spotipy\n",
      "  Downloading spotipy-2.23.0-py3-none-any.whl (29 kB)\n",
      "Collecting redis>=3.5.3 (from spotipy)\n",
      "  Obtaining dependency information for redis>=3.5.3 from https://files.pythonhosted.org/packages/0b/34/a01250ac1fc9bf9161e07956d2d580413106ce02d5591470130a25c599e3/redis-5.0.1-py3-none-any.whl.metadata\n",
      "  Downloading redis-5.0.1-py3-none-any.whl.metadata (8.9 kB)\n",
      "Requirement already satisfied: requests>=2.25.0 in c:\\users\\as233\\anaconda3\\lib\\site-packages (from spotipy) (2.31.0)\n",
      "Requirement already satisfied: six>=1.15.0 in c:\\users\\as233\\anaconda3\\lib\\site-packages (from spotipy) (1.16.0)\n",
      "Requirement already satisfied: urllib3>=1.26.0 in c:\\users\\as233\\anaconda3\\lib\\site-packages (from spotipy) (1.26.16)\n",
      "Requirement already satisfied: charset-normalizer<4,>=2 in c:\\users\\as233\\anaconda3\\lib\\site-packages (from requests>=2.25.0->spotipy) (2.0.4)\n",
      "Requirement already satisfied: idna<4,>=2.5 in c:\\users\\as233\\anaconda3\\lib\\site-packages (from requests>=2.25.0->spotipy) (3.4)\n",
      "Requirement already satisfied: certifi>=2017.4.17 in c:\\users\\as233\\anaconda3\\lib\\site-packages (from requests>=2.25.0->spotipy) (2023.11.17)\n",
      "Downloading redis-5.0.1-py3-none-any.whl (250 kB)\n",
      "   ---------------------------------------- 0.0/250.3 kB ? eta -:--:--\n",
      "   ---- ----------------------------------- 30.7/250.3 kB ? eta -:--:--\n",
      "   ------------- -------------------------- 81.9/250.3 kB 1.1 MB/s eta 0:00:01\n",
      "   ------------------- -------------------- 122.9/250.3 kB 1.0 MB/s eta 0:00:01\n",
      "   --------------------- ---------------- 143.4/250.3 kB 944.1 kB/s eta 0:00:01\n",
      "   ------------------------------------ --- 225.3/250.3 kB 1.1 MB/s eta 0:00:01\n",
      "   ---------------------------------------- 250.3/250.3 kB 1.1 MB/s eta 0:00:00\n",
      "Installing collected packages: redis, spotipy\n",
      "Successfully installed redis-5.0.1 spotipy-2.23.0\n"
     ]
    }
   ],
   "source": [
    "!pip install spotipy"
   ]
  },
  {
   "cell_type": "code",
   "execution_count": 10,
   "id": "87feef2f",
   "metadata": {},
   "outputs": [],
   "source": [
    "import pandas as pd\n",
    "import spotipy\n",
    "from spotipy.oauth2 import SpotifyOAuth"
   ]
  },
  {
   "cell_type": "code",
   "execution_count": 11,
   "id": "bf0d0f8c",
   "metadata": {},
   "outputs": [],
   "source": [
    "def get_trending_playlist(playlist_id, access_token):\n",
    "    sp = spotipy.Spotify(auth=access_token)\n",
    "    playlist_tracks = sp.playlist_tracks(playlist_id, fields='items(track(id, name, artists, album(id, name)))')\n",
    "    music_data = []\n",
    "    for track_info in playlist_tracks['items']:\n",
    "        track = track_info['track']\n",
    "        track_name = track['name']\n",
    "        artists = ', '.join([artist['name'] for artist in track['artists']])\n",
    "        album_name = track['album']['name']\n",
    "        album_id = track['album']['id']\n",
    "        track_id = track['id']\n",
    "        audio_features = sp.audio_features(track_id)[0] if track_id != 'Not available' else None\n",
    "        \n",
    "        try:\n",
    "            album_info = sp.album(album_id) if album_id != 'Not available' else None\n",
    "            release_date = album_info['release_date'] if album_info else None\n",
    "        except:\n",
    "            release_date = None\n",
    "\n",
    "        try:\n",
    "            track_info = sp.track(track_id) if track_id != 'Not available' else None\n",
    "            popularity = track_info['popularity'] if track_info else None\n",
    "        except:\n",
    "            popularity = None\n",
    "\n",
    "        track_data = {\n",
    "            'Track Name': track_name,\n",
    "            'Artists': artists,\n",
    "            'Album Name': album_name,\n",
    "            'Album ID': album_id,\n",
    "            'Track ID': track_id,\n",
    "            'Popularity': popularity,\n",
    "            'Release Date': release_date,\n",
    "            'Duration (ms)': audio_features['duration_ms'] if audio_features else None,\n",
    "            'Explicit': track_info.get('explicit', None),\n",
    "            'External URLs': track_info.get('external_urls', {}).get('spotify', None),\n",
    "            'Danceability': audio_features['danceability'] if audio_features else None,\n",
    "            'Energy': audio_features['energy'] if audio_features else None,\n",
    "            'Key': audio_features['key'] if audio_features else None,\n",
    "            'Loudness': audio_features['loudness'] if audio_features else None,\n",
    "            'Mode': audio_features['mode'] if audio_features else None,\n",
    "            'Speechiness': audio_features['speechiness'] if audio_features else None,\n",
    "            'Acousticness': audio_features['acousticness'] if audio_features else None,\n",
    "            'Instrumentalness': audio_features['instrumentalness'] if audio_features else None,\n",
    "            'Liveness': audio_features['liveness'] if audio_features else None,\n",
    "            'Valence': audio_features['valence'] if audio_features else None,\n",
    "            'Tempo': audio_features['tempo'] if audio_features else None,\n",
    "        }\n",
    "\n",
    "        music_data.append(track_data)\n",
    "        \n",
    "    df = pd.DataFrame(music_data)\n",
    "\n",
    "    return df\n",
    "        "
   ]
  },
  {
   "cell_type": "code",
   "execution_count": 13,
   "id": "3bd535f0",
   "metadata": {},
   "outputs": [
    {
     "name": "stdout",
     "output_type": "stream",
     "text": [
      "                      Track Name  \\\n",
      "0                          Prada   \n",
      "1                       fukumean   \n",
      "2                I'm Good (Blue)   \n",
      "3             IDGAF (feat. Yeat)   \n",
      "4     FE!N (feat. Playboi Carti)   \n",
      "..                           ...   \n",
      "95              ULTRA SOLO REMIX   \n",
      "96                      Remember   \n",
      "97              Little Girl Gone   \n",
      "98  Kernkraft 400 (A Better Day)   \n",
      "99   pushin P (feat. Young Thug)   \n",
      "\n",
      "                                              Artists  \\\n",
      "0                         cassö, RAYE, D-Block Europe   \n",
      "1                                               Gunna   \n",
      "2                            David Guetta, Bebe Rexha   \n",
      "3                                         Drake, Yeat   \n",
      "4                         Travis Scott, Playboi Carti   \n",
      "..                                                ...   \n",
      "95  Polimá Westcoast, Feid, Pailita, Paloma Mami, ...   \n",
      "96                           Becky Hill, David Guetta   \n",
      "97                                         CHINCHILLA   \n",
      "98                                         Topic, A7S   \n",
      "99                          Gunna, Future, Young Thug   \n",
      "\n",
      "                      Album Name                Album ID  \\\n",
      "0                          Prada  5MU0RmBSpoSxOPYBfcobDc   \n",
      "1               a Gift & a Curse  5qmZefgh78fN3jsyPPlvuw   \n",
      "2                I'm Good (Blue)  7M842DMhYVALrXsw3ty7B3   \n",
      "3               For All The Dogs  4czdORdCWP9umpbhFXK2fW   \n",
      "4                         UTOPIA  18NOKLkZETa4sWwLMIm0UZ   \n",
      "..                           ...                     ...   \n",
      "95              ULTRA SOLO REMIX  7JsxzI8o2TI71jHBOIsgqm   \n",
      "96                      Remember  6DHfD3rZapWFmEKX1FNNZF   \n",
      "97              Little Girl Gone  7tzZQfNdN5rWCYFcM24byP   \n",
      "98  Kernkraft 400 (A Better Day)  2NIChqkijGw4r4Dqfmg0A3   \n",
      "99                       DS4EVER  02uWB8Kekadkl3yGBoOOcx   \n",
      "\n",
      "                  Track ID  Popularity Release Date  Duration (ms)  Explicit  \\\n",
      "0   59NraMJsLaMCVtwXTSia8i          94   2023-08-11         132359      True   \n",
      "1   4rXLjWdF2ZZpXCVTfWcshS          93   2023-06-16         125040      True   \n",
      "2   4uUG5RXrOk84mYEfFvj3cK          93   2022-08-26         175238      True   \n",
      "3   2YSzYUF3jWqb9YP9VXmpjE          92   2023-10-06         260111      True   \n",
      "4   42VsgItocQwOQC3XWZ8JNA          91   2023-07-28         191701      True   \n",
      "..                     ...         ...          ...            ...       ...   \n",
      "95  6wtZPYBIXUvCpXwVjMCJBf          76   2022-06-16         322347     False   \n",
      "96  4laAKIq9ZxBCwf99rauPYb          76   2021-06-18         160766     False   \n",
      "97  56rpEOCBATYItSa4yPksfe          76   2023-09-01         188596      True   \n",
      "98  3kcKlOkQQEPVwxwljbGJ5p          76   2022-06-17         165800     False   \n",
      "99  3XOalgusokruzA5ZBA2Qcb          76   2022-01-13         136267      True   \n",
      "\n",
      "                                        External URLs  ...  Energy  Key  \\\n",
      "0   https://open.spotify.com/track/59NraMJsLaMCVtw...  ...   0.717    8   \n",
      "1   https://open.spotify.com/track/4rXLjWdF2ZZpXCV...  ...   0.622    1   \n",
      "2   https://open.spotify.com/track/4uUG5RXrOk84mYE...  ...   0.965    7   \n",
      "3   https://open.spotify.com/track/2YSzYUF3jWqb9YP...  ...   0.670    8   \n",
      "4   https://open.spotify.com/track/42VsgItocQwOQC3...  ...   0.882    3   \n",
      "..                                                ...  ...     ...  ...   \n",
      "95  https://open.spotify.com/track/6wtZPYBIXUvCpXw...  ...   0.824    1   \n",
      "96  https://open.spotify.com/track/4laAKIq9ZxBCwf9...  ...   0.862    8   \n",
      "97  https://open.spotify.com/track/56rpEOCBATYItSa...  ...   0.683    1   \n",
      "98  https://open.spotify.com/track/3kcKlOkQQEPVwxw...  ...   0.727   11   \n",
      "99  https://open.spotify.com/track/3XOalgusokruzA5...  ...   0.422    1   \n",
      "\n",
      "    Loudness  Mode  Speechiness  Acousticness  Instrumentalness  Liveness  \\\n",
      "0     -5.804     1       0.0375       0.00100          0.000002    0.1130   \n",
      "1     -6.747     0       0.0903       0.11900          0.000000    0.2850   \n",
      "2     -3.673     0       0.0343       0.00383          0.000007    0.3710   \n",
      "3     -8.399     1       0.2710       0.04640          0.000089    0.2050   \n",
      "4     -2.777     0       0.0600       0.03160          0.000000    0.1420   \n",
      "..       ...   ...          ...           ...               ...       ...   \n",
      "95    -4.627     1       0.0797       0.07770          0.003870    0.0638   \n",
      "96    -2.903     1       0.0370       0.04100          0.000000    0.0907   \n",
      "97    -6.342     0       0.2710       0.19000          0.000000    0.0819   \n",
      "98    -5.570     0       0.0562       0.18400          0.000020    0.3090   \n",
      "99    -4.572     0       0.1870       0.00783          0.006930    0.1290   \n",
      "\n",
      "    Valence    Tempo  \n",
      "0     0.422  141.904  \n",
      "1     0.220  130.001  \n",
      "2     0.304  128.040  \n",
      "3     0.138  136.952  \n",
      "4     0.201  148.038  \n",
      "..      ...      ...  \n",
      "95    0.585  109.970  \n",
      "96    0.354  123.849  \n",
      "97    0.534  159.998  \n",
      "98    0.400  125.975  \n",
      "99    0.488   77.502  \n",
      "\n",
      "[100 rows x 21 columns]\n"
     ]
    }
   ],
   "source": [
    "playlist_id = '37i9dQZF1DX76Wlfdnj7AP'\n",
    "\n",
    "music_df = get_trending_playlist(playlist_id, access_token)\n",
    "\n",
    "print(music_df)"
   ]
  },
  {
   "cell_type": "code",
   "execution_count": 14,
   "id": "72935b90",
   "metadata": {},
   "outputs": [
    {
     "name": "stdout",
     "output_type": "stream",
     "text": [
      "Track Name          0\n",
      "Artists             0\n",
      "Album Name          0\n",
      "Album ID            0\n",
      "Track ID            0\n",
      "Popularity          0\n",
      "Release Date        0\n",
      "Duration (ms)       0\n",
      "Explicit            0\n",
      "External URLs       0\n",
      "Danceability        0\n",
      "Energy              0\n",
      "Key                 0\n",
      "Loudness            0\n",
      "Mode                0\n",
      "Speechiness         0\n",
      "Acousticness        0\n",
      "Instrumentalness    0\n",
      "Liveness            0\n",
      "Valence             0\n",
      "Tempo               0\n",
      "dtype: int64\n"
     ]
    }
   ],
   "source": [
    "print(music_df.isnull().sum())"
   ]
  },
  {
   "cell_type": "code",
   "execution_count": 15,
   "id": "3fee7517",
   "metadata": {},
   "outputs": [],
   "source": [
    "import pandas as pd\n",
    "import numpy as np\n",
    "from sklearn.model_selection import train_test_split\n",
    "from sklearn.preprocessing import MinMaxScaler\n",
    "from datetime import datetime\n",
    "from sklearn.metrics.pairwise import cosine_similarity"
   ]
  },
  {
   "cell_type": "code",
   "execution_count": 16,
   "id": "8ddb61e0",
   "metadata": {},
   "outputs": [],
   "source": [
    "data = music_df"
   ]
  },
  {
   "cell_type": "code",
   "execution_count": 17,
   "id": "360f04d7",
   "metadata": {},
   "outputs": [],
   "source": [
    "def calculate_weighted_popularity(release_date):\n",
    "    release_date = datetime.strptime(release_date, '%Y-%m-%d')\n",
    "\n",
    "    time_span = datetime.now() - release_date\n",
    "\n",
    "    weight = 1 / (time_span.days + 1)\n",
    "    return weight"
   ]
  },
  {
   "cell_type": "code",
   "execution_count": 18,
   "id": "a86685f5",
   "metadata": {},
   "outputs": [],
   "source": [
    "scaler = MinMaxScaler()\n",
    "music_features = music_df[['Danceability', 'Energy', 'Key', \n",
    "                           'Loudness', 'Mode', 'Speechiness', 'Acousticness',\n",
    "                           'Instrumentalness', 'Liveness', 'Valence', 'Tempo']].values\n",
    "music_features_scaled = scaler.fit_transform(music_features)"
   ]
  },
  {
   "cell_type": "code",
   "execution_count": 19,
   "id": "177187bf",
   "metadata": {},
   "outputs": [],
   "source": [
    "def content_based_recommendations(input_song_name, num_recommendations=5):\n",
    "    if input_song_name not in music_df['Track Name'].values:\n",
    "        print(f\"'{input_song_name}' not found in the dataset. Please enter a valid song name.\")\n",
    "        return\n",
    "\n",
    "    input_song_index = music_df[music_df['Track Name'] == input_song_name].index[0]\n",
    "\n",
    "    similarity_scores = cosine_similarity([music_features_scaled[input_song_index]], music_features_scaled)\n",
    "\n",
    "    similar_song_indices = similarity_scores.argsort()[0][::-1][1:num_recommendations + 1]\n",
    "\n",
    "    content_based_recommendations = music_df.iloc[similar_song_indices][['Track Name', 'Artists', 'Album Name', 'Release Date', 'Popularity']]\n",
    "\n",
    "    return content_based_recommendations"
   ]
  },
  {
   "cell_type": "code",
   "execution_count": 47,
   "id": "c4dc530c",
   "metadata": {},
   "outputs": [],
   "source": [
    "def hybrid_recommendations(input_song_name, num_recommendations=5, alpha=0.5):\n",
    "    if input_song_name not in music_df['Track Name'].values:\n",
    "        print(f\"'{input_song_name}' not found in the dataset. Please enter a valid song name.\")\n",
    "        return\n",
    "\n",
    "    content_based_rec = content_based_recommendations(input_song_name, num_recommendations)\n",
    "\n",
    "\n",
    "    popularity_score = music_df.loc[music_df['Track Name'] == input_song_name, 'Popularity'].values[0]\n",
    "\n",
    "    weighted_popularity_score = popularity_score * calculate_weighted_popularity(music_df.loc[music_df['Track Name'] == input_song_name, 'Release Date'].values[0])\n",
    "\n",
    "    hybrid_recommendations = content_based_rec\n",
    "    print(hybrid_recommendations.head())\n",
    "    output_df = pd.DataFrame({\n",
    "        'Track Name': input_song_name,\n",
    "        'Artists': music_df.loc[music_df['Track Name'] == input_song_name, 'Artists'].values[0],\n",
    "        'Album Name': music_df.loc[music_df['Track Name'] == input_song_name, 'Album Name'].values[0],\n",
    "        'Release Date': music_df.loc[music_df['Track Name'] == input_song_name, 'Release Date'].values[0],\n",
    "        'Popularity': weighted_popularity_score\n",
    "    }, )\n",
    "    print(output_df.head())\n",
    "    \n",
    "    hybrid_recommendations =pd.concat(hybrid_recommendations,output_df, ignore_index=True)\n",
    "\n",
    "\n",
    "    hybrid_recommendations = hybrid_recommendations.sort_values(by='Popularity', ascending=False)\n",
    "\n",
    "\n",
    "    hybrid_recommendations = hybrid_recommendations[hybrid_recommendations['Track Name'] != input_song_name]\n",
    "\n",
    "\n",
    "    return hybrid_recommendations"
   ]
  },
  {
   "cell_type": "code",
   "execution_count": 50,
   "id": "d32d1c3a",
   "metadata": {},
   "outputs": [
    {
     "ename": "SyntaxError",
     "evalue": "invalid syntax (3080633652.py, line 2)",
     "output_type": "error",
     "traceback": [
      "\u001b[1;36m  Cell \u001b[1;32mIn[50], line 2\u001b[1;36m\u001b[0m\n\u001b[1;33m    Track Name: input_song_name,\u001b[0m\n\u001b[1;37m          ^\u001b[0m\n\u001b[1;31mSyntaxError\u001b[0m\u001b[1;31m:\u001b[0m invalid syntax\n"
     ]
    }
   ],
   "source": [
    "input_song_name = \"I'm Good (Blue)\"\n",
    "music_df.loc[music_df['Track Name'] == input_song_name, 'Artists'].values[0]"
   ]
  },
  {
   "cell_type": "code",
   "execution_count": 48,
   "id": "f4507767",
   "metadata": {},
   "outputs": [
    {
     "name": "stdout",
     "output_type": "stream",
     "text": [
      "                    Track Name                                     Artists  \\\n",
      "90                        BOTH                      Tiësto, 21 Savage, BIA   \n",
      "75                       REACT  Switch Disco, Ella Henderson, Robert Miles   \n",
      "81               Where You Are                          John Summit, Hayla   \n",
      "4   FE!N (feat. Playboi Carti)                 Travis Scott, Playboi Carti   \n",
      "51                Call It Love                     Felix Jaehn, Ray Dalton   \n",
      "\n",
      "       Album Name Release Date  Popularity  \n",
      "90           BOTH   2023-08-29          77  \n",
      "75          REACT   2023-01-13          79  \n",
      "81  Where You Are   2023-03-03          78  \n",
      "4          UTOPIA   2023-07-28          91  \n",
      "51   Call It Love   2022-09-16          82  \n"
     ]
    },
    {
     "ename": "TypeError",
     "evalue": "Index(...) must be called with a collection of some kind, 0 was passed",
     "output_type": "error",
     "traceback": [
      "\u001b[1;31m---------------------------------------------------------------------------\u001b[0m",
      "\u001b[1;31mTypeError\u001b[0m                                 Traceback (most recent call last)",
      "Cell \u001b[1;32mIn[48], line 2\u001b[0m\n\u001b[0;32m      1\u001b[0m input_song_name \u001b[38;5;241m=\u001b[39m \u001b[38;5;124m\"\u001b[39m\u001b[38;5;124mI\u001b[39m\u001b[38;5;124m'\u001b[39m\u001b[38;5;124mm Good (Blue)\u001b[39m\u001b[38;5;124m\"\u001b[39m\n\u001b[1;32m----> 2\u001b[0m recommendations \u001b[38;5;241m=\u001b[39m hybrid_recommendations(input_song_name, num_recommendations\u001b[38;5;241m=\u001b[39m\u001b[38;5;241m5\u001b[39m)\n\u001b[0;32m      3\u001b[0m \u001b[38;5;28mprint\u001b[39m(\u001b[38;5;124mf\u001b[39m\u001b[38;5;124m\"\u001b[39m\u001b[38;5;124mHybrid recommended songs for \u001b[39m\u001b[38;5;124m'\u001b[39m\u001b[38;5;132;01m{\u001b[39;00minput_song_name\u001b[38;5;132;01m}\u001b[39;00m\u001b[38;5;124m'\u001b[39m\u001b[38;5;124m:\u001b[39m\u001b[38;5;124m\"\u001b[39m)\n\u001b[0;32m      4\u001b[0m \u001b[38;5;28mprint\u001b[39m(recommendations)\n",
      "Cell \u001b[1;32mIn[47], line 15\u001b[0m, in \u001b[0;36mhybrid_recommendations\u001b[1;34m(input_song_name, num_recommendations, alpha)\u001b[0m\n\u001b[0;32m     13\u001b[0m hybrid_recommendations \u001b[38;5;241m=\u001b[39m content_based_rec\n\u001b[0;32m     14\u001b[0m \u001b[38;5;28mprint\u001b[39m(hybrid_recommendations\u001b[38;5;241m.\u001b[39mhead())\n\u001b[1;32m---> 15\u001b[0m output_df \u001b[38;5;241m=\u001b[39m pd\u001b[38;5;241m.\u001b[39mDataFrame({\n\u001b[0;32m     16\u001b[0m     \u001b[38;5;124m'\u001b[39m\u001b[38;5;124mTrack Name\u001b[39m\u001b[38;5;124m'\u001b[39m: input_song_name,\n\u001b[0;32m     17\u001b[0m     \u001b[38;5;124m'\u001b[39m\u001b[38;5;124mArtists\u001b[39m\u001b[38;5;124m'\u001b[39m: music_df\u001b[38;5;241m.\u001b[39mloc[music_df[\u001b[38;5;124m'\u001b[39m\u001b[38;5;124mTrack Name\u001b[39m\u001b[38;5;124m'\u001b[39m] \u001b[38;5;241m==\u001b[39m input_song_name, \u001b[38;5;124m'\u001b[39m\u001b[38;5;124mArtists\u001b[39m\u001b[38;5;124m'\u001b[39m]\u001b[38;5;241m.\u001b[39mvalues[\u001b[38;5;241m0\u001b[39m],\n\u001b[0;32m     18\u001b[0m     \u001b[38;5;124m'\u001b[39m\u001b[38;5;124mAlbum Name\u001b[39m\u001b[38;5;124m'\u001b[39m: music_df\u001b[38;5;241m.\u001b[39mloc[music_df[\u001b[38;5;124m'\u001b[39m\u001b[38;5;124mTrack Name\u001b[39m\u001b[38;5;124m'\u001b[39m] \u001b[38;5;241m==\u001b[39m input_song_name, \u001b[38;5;124m'\u001b[39m\u001b[38;5;124mAlbum Name\u001b[39m\u001b[38;5;124m'\u001b[39m]\u001b[38;5;241m.\u001b[39mvalues[\u001b[38;5;241m0\u001b[39m],\n\u001b[0;32m     19\u001b[0m     \u001b[38;5;124m'\u001b[39m\u001b[38;5;124mRelease Date\u001b[39m\u001b[38;5;124m'\u001b[39m: music_df\u001b[38;5;241m.\u001b[39mloc[music_df[\u001b[38;5;124m'\u001b[39m\u001b[38;5;124mTrack Name\u001b[39m\u001b[38;5;124m'\u001b[39m] \u001b[38;5;241m==\u001b[39m input_song_name, \u001b[38;5;124m'\u001b[39m\u001b[38;5;124mRelease Date\u001b[39m\u001b[38;5;124m'\u001b[39m]\u001b[38;5;241m.\u001b[39mvalues[\u001b[38;5;241m0\u001b[39m],\n\u001b[0;32m     20\u001b[0m     \u001b[38;5;124m'\u001b[39m\u001b[38;5;124mPopularity\u001b[39m\u001b[38;5;124m'\u001b[39m: weighted_popularity_score\n\u001b[0;32m     21\u001b[0m },index\u001b[38;5;241m=\u001b[39m\u001b[38;5;241m0\u001b[39m)\n\u001b[0;32m     22\u001b[0m \u001b[38;5;28mprint\u001b[39m(output_df\u001b[38;5;241m.\u001b[39mhead())\n\u001b[0;32m     24\u001b[0m hybrid_recommendations \u001b[38;5;241m=\u001b[39mpd\u001b[38;5;241m.\u001b[39mconcat(hybrid_recommendations,output_df, ignore_index\u001b[38;5;241m=\u001b[39m\u001b[38;5;28;01mTrue\u001b[39;00m)\n",
      "File \u001b[1;32m~\\anaconda3\\Lib\\site-packages\\pandas\\core\\frame.py:709\u001b[0m, in \u001b[0;36mDataFrame.__init__\u001b[1;34m(self, data, index, columns, dtype, copy)\u001b[0m\n\u001b[0;32m    703\u001b[0m     mgr \u001b[38;5;241m=\u001b[39m \u001b[38;5;28mself\u001b[39m\u001b[38;5;241m.\u001b[39m_init_mgr(\n\u001b[0;32m    704\u001b[0m         data, axes\u001b[38;5;241m=\u001b[39m{\u001b[38;5;124m\"\u001b[39m\u001b[38;5;124mindex\u001b[39m\u001b[38;5;124m\"\u001b[39m: index, \u001b[38;5;124m\"\u001b[39m\u001b[38;5;124mcolumns\u001b[39m\u001b[38;5;124m\"\u001b[39m: columns}, dtype\u001b[38;5;241m=\u001b[39mdtype, copy\u001b[38;5;241m=\u001b[39mcopy\n\u001b[0;32m    705\u001b[0m     )\n\u001b[0;32m    707\u001b[0m \u001b[38;5;28;01melif\u001b[39;00m \u001b[38;5;28misinstance\u001b[39m(data, \u001b[38;5;28mdict\u001b[39m):\n\u001b[0;32m    708\u001b[0m     \u001b[38;5;66;03m# GH#38939 de facto copy defaults to False only in non-dict cases\u001b[39;00m\n\u001b[1;32m--> 709\u001b[0m     mgr \u001b[38;5;241m=\u001b[39m dict_to_mgr(data, index, columns, dtype\u001b[38;5;241m=\u001b[39mdtype, copy\u001b[38;5;241m=\u001b[39mcopy, typ\u001b[38;5;241m=\u001b[39mmanager)\n\u001b[0;32m    710\u001b[0m \u001b[38;5;28;01melif\u001b[39;00m \u001b[38;5;28misinstance\u001b[39m(data, ma\u001b[38;5;241m.\u001b[39mMaskedArray):\n\u001b[0;32m    711\u001b[0m     \u001b[38;5;28;01mfrom\u001b[39;00m \u001b[38;5;21;01mnumpy\u001b[39;00m\u001b[38;5;21;01m.\u001b[39;00m\u001b[38;5;21;01mma\u001b[39;00m \u001b[38;5;28;01mimport\u001b[39;00m mrecords\n",
      "File \u001b[1;32m~\\anaconda3\\Lib\\site-packages\\pandas\\core\\internals\\construction.py:481\u001b[0m, in \u001b[0;36mdict_to_mgr\u001b[1;34m(data, index, columns, dtype, typ, copy)\u001b[0m\n\u001b[0;32m    477\u001b[0m     \u001b[38;5;28;01melse\u001b[39;00m:\n\u001b[0;32m    478\u001b[0m         \u001b[38;5;66;03m# dtype check to exclude e.g. range objects, scalars\u001b[39;00m\n\u001b[0;32m    479\u001b[0m         arrays \u001b[38;5;241m=\u001b[39m [x\u001b[38;5;241m.\u001b[39mcopy() \u001b[38;5;28;01mif\u001b[39;00m \u001b[38;5;28mhasattr\u001b[39m(x, \u001b[38;5;124m\"\u001b[39m\u001b[38;5;124mdtype\u001b[39m\u001b[38;5;124m\"\u001b[39m) \u001b[38;5;28;01melse\u001b[39;00m x \u001b[38;5;28;01mfor\u001b[39;00m x \u001b[38;5;129;01min\u001b[39;00m arrays]\n\u001b[1;32m--> 481\u001b[0m \u001b[38;5;28;01mreturn\u001b[39;00m arrays_to_mgr(arrays, columns, index, dtype\u001b[38;5;241m=\u001b[39mdtype, typ\u001b[38;5;241m=\u001b[39mtyp, consolidate\u001b[38;5;241m=\u001b[39mcopy)\n",
      "File \u001b[1;32m~\\anaconda3\\Lib\\site-packages\\pandas\\core\\internals\\construction.py:117\u001b[0m, in \u001b[0;36marrays_to_mgr\u001b[1;34m(arrays, columns, index, dtype, verify_integrity, typ, consolidate)\u001b[0m\n\u001b[0;32m    115\u001b[0m     index \u001b[38;5;241m=\u001b[39m _extract_index(arrays)\n\u001b[0;32m    116\u001b[0m \u001b[38;5;28;01melse\u001b[39;00m:\n\u001b[1;32m--> 117\u001b[0m     index \u001b[38;5;241m=\u001b[39m ensure_index(index)\n\u001b[0;32m    119\u001b[0m \u001b[38;5;66;03m# don't force copy because getting jammed in an ndarray anyway\u001b[39;00m\n\u001b[0;32m    120\u001b[0m arrays, refs \u001b[38;5;241m=\u001b[39m _homogenize(arrays, index, dtype)\n",
      "File \u001b[1;32m~\\anaconda3\\Lib\\site-packages\\pandas\\core\\indexes\\base.py:7128\u001b[0m, in \u001b[0;36mensure_index\u001b[1;34m(index_like, copy)\u001b[0m\n\u001b[0;32m   7126\u001b[0m         \u001b[38;5;28;01mreturn\u001b[39;00m Index(index_like, copy\u001b[38;5;241m=\u001b[39mcopy, tupleize_cols\u001b[38;5;241m=\u001b[39m\u001b[38;5;28;01mFalse\u001b[39;00m)\n\u001b[0;32m   7127\u001b[0m \u001b[38;5;28;01melse\u001b[39;00m:\n\u001b[1;32m-> 7128\u001b[0m     \u001b[38;5;28;01mreturn\u001b[39;00m Index(index_like, copy\u001b[38;5;241m=\u001b[39mcopy)\n",
      "File \u001b[1;32m~\\anaconda3\\Lib\\site-packages\\pandas\\core\\indexes\\base.py:516\u001b[0m, in \u001b[0;36mIndex.__new__\u001b[1;34m(cls, data, dtype, copy, name, tupleize_cols)\u001b[0m\n\u001b[0;32m    513\u001b[0m         data \u001b[38;5;241m=\u001b[39m com\u001b[38;5;241m.\u001b[39masarray_tuplesafe(data, dtype\u001b[38;5;241m=\u001b[39m_dtype_obj)\n\u001b[0;32m    515\u001b[0m \u001b[38;5;28;01melif\u001b[39;00m is_scalar(data):\n\u001b[1;32m--> 516\u001b[0m     \u001b[38;5;28;01mraise\u001b[39;00m \u001b[38;5;28mcls\u001b[39m\u001b[38;5;241m.\u001b[39m_raise_scalar_data_error(data)\n\u001b[0;32m    517\u001b[0m \u001b[38;5;28;01melif\u001b[39;00m \u001b[38;5;28mhasattr\u001b[39m(data, \u001b[38;5;124m\"\u001b[39m\u001b[38;5;124m__array__\u001b[39m\u001b[38;5;124m\"\u001b[39m):\n\u001b[0;32m    518\u001b[0m     \u001b[38;5;28;01mreturn\u001b[39;00m Index(np\u001b[38;5;241m.\u001b[39masarray(data), dtype\u001b[38;5;241m=\u001b[39mdtype, copy\u001b[38;5;241m=\u001b[39mcopy, name\u001b[38;5;241m=\u001b[39mname)\n",
      "File \u001b[1;32m~\\anaconda3\\Lib\\site-packages\\pandas\\core\\indexes\\base.py:5066\u001b[0m, in \u001b[0;36mIndex._raise_scalar_data_error\u001b[1;34m(cls, data)\u001b[0m\n\u001b[0;32m   5061\u001b[0m \u001b[38;5;129m@final\u001b[39m\n\u001b[0;32m   5062\u001b[0m \u001b[38;5;129m@classmethod\u001b[39m\n\u001b[0;32m   5063\u001b[0m \u001b[38;5;28;01mdef\u001b[39;00m \u001b[38;5;21m_raise_scalar_data_error\u001b[39m(\u001b[38;5;28mcls\u001b[39m, data):\n\u001b[0;32m   5064\u001b[0m     \u001b[38;5;66;03m# We return the TypeError so that we can raise it from the constructor\u001b[39;00m\n\u001b[0;32m   5065\u001b[0m     \u001b[38;5;66;03m#  in order to keep mypy happy\u001b[39;00m\n\u001b[1;32m-> 5066\u001b[0m     \u001b[38;5;28;01mraise\u001b[39;00m \u001b[38;5;167;01mTypeError\u001b[39;00m(\n\u001b[0;32m   5067\u001b[0m         \u001b[38;5;124mf\u001b[39m\u001b[38;5;124m\"\u001b[39m\u001b[38;5;132;01m{\u001b[39;00m\u001b[38;5;28mcls\u001b[39m\u001b[38;5;241m.\u001b[39m\u001b[38;5;18m__name__\u001b[39m\u001b[38;5;132;01m}\u001b[39;00m\u001b[38;5;124m(...) must be called with a collection of some \u001b[39m\u001b[38;5;124m\"\u001b[39m\n\u001b[0;32m   5068\u001b[0m         \u001b[38;5;124mf\u001b[39m\u001b[38;5;124m\"\u001b[39m\u001b[38;5;124mkind, \u001b[39m\u001b[38;5;132;01m{\u001b[39;00m\u001b[38;5;28mrepr\u001b[39m(data)\u001b[38;5;132;01m}\u001b[39;00m\u001b[38;5;124m was passed\u001b[39m\u001b[38;5;124m\"\u001b[39m\n\u001b[0;32m   5069\u001b[0m     )\n",
      "\u001b[1;31mTypeError\u001b[0m: Index(...) must be called with a collection of some kind, 0 was passed"
     ]
    }
   ],
   "source": [
    "input_song_name = \"I'm Good (Blue)\"\n",
    "recommendations = hybrid_recommendations(input_song_name, num_recommendations=5)\n",
    "print(f\"Hybrid recommended songs for '{input_song_name}':\")\n",
    "print(recommendations)"
   ]
  },
  {
   "cell_type": "code",
   "execution_count": null,
   "id": "4d98ef34",
   "metadata": {},
   "outputs": [],
   "source": []
  }
 ],
 "metadata": {
  "kernelspec": {
   "display_name": "Python 3 (ipykernel)",
   "language": "python",
   "name": "python3"
  },
  "language_info": {
   "codemirror_mode": {
    "name": "ipython",
    "version": 3
   },
   "file_extension": ".py",
   "mimetype": "text/x-python",
   "name": "python",
   "nbconvert_exporter": "python",
   "pygments_lexer": "ipython3",
   "version": "3.11.5"
  }
 },
 "nbformat": 4,
 "nbformat_minor": 5
}
