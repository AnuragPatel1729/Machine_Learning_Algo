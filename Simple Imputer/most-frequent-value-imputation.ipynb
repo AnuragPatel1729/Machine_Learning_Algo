{
 "cells": [
  {
   "cell_type": "code",
   "execution_count": 1,
   "id": "cec79f71",
   "metadata": {},
   "outputs": [],
   "source": [
    "import pandas as pd\n",
    "import numpy as np\n",
    "import matplotlib.pyplot as plt"
   ]
  },
  {
   "cell_type": "code",
   "execution_count": 2,
   "id": "ce1b7dd8",
   "metadata": {},
   "outputs": [],
   "source": [
    "df = pd.read_csv('train.csv',usecols=['GarageQual','FireplaceQu','SalePrice'])"
   ]
  },
  {
   "cell_type": "code",
   "execution_count": null,
   "id": "d2c8af37",
   "metadata": {},
   "outputs": [],
   "source": [
    "df.head()"
   ]
  },
  {
   "cell_type": "code",
   "execution_count": null,
   "id": "a5d10939",
   "metadata": {},
   "outputs": [],
   "source": [
    "df.isnull().mean()*100"
   ]
  },
  {
   "cell_type": "code",
   "execution_count": null,
   "id": "0052d8d5",
   "metadata": {},
   "outputs": [],
   "source": [
    "df['GarageQual'].value_counts().sort_values(ascending=False).plot.bar()\n",
    "plt.xlabel('GarageQual')\n",
    "plt.ylabel('Number of house')"
   ]
  },
  {
   "cell_type": "code",
   "execution_count": null,
   "id": "12a75206",
   "metadata": {},
   "outputs": [],
   "source": [
    "df['GarageQual'].mode()"
   ]
  },
  {
   "cell_type": "code",
   "execution_count": null,
   "id": "6a5ea245",
   "metadata": {},
   "outputs": [],
   "source": [
    "fig = plt.figure()\n",
    "ax = fig.add_subplot(111)\n",
    "\n",
    "df[df['GarageQual']=='TA']['SalePrice'].plot(kind='kde',ax= ax)\n",
    "\n",
    "df[df['GarageQual'].isnull()]['SalePrice'].plot(kind ='kde',ax= ax, color='red')\n",
    "\n",
    "line, label = ax.get_legend_handles_labels()\n",
    "\n",
    "label = ['House with TA','House with NA']\n",
    "\n",
    "ax.legend(line,label,loc='best')\n",
    "\n",
    "plt.title('GarageQual')"
   ]
  },
  {
   "cell_type": "code",
   "execution_count": null,
   "id": "625b5ce6",
   "metadata": {},
   "outputs": [],
   "source": [
    "temp = df[df['GarageQual']=='TA']['SalePrice']"
   ]
  },
  {
   "cell_type": "code",
   "execution_count": null,
   "id": "82822d9b",
   "metadata": {},
   "outputs": [],
   "source": [
    "df['GarageQual'].fillna('TA',inplace= True)"
   ]
  },
  {
   "cell_type": "code",
   "execution_count": null,
   "id": "26ab382c",
   "metadata": {},
   "outputs": [],
   "source": [
    "df['GarageQual'].value_counts().plot(kind= 'bar')"
   ]
  },
  {
   "cell_type": "code",
   "execution_count": null,
   "id": "d64c12bd",
   "metadata": {},
   "outputs": [],
   "source": [
    "fig = plt.figure()\n",
    "ax = fig.add_subplot(111)\n",
    "\n",
    "temp.plot(kind= 'kde',ax= ax)\n",
    "df[df['GarageQual']=='TA']['SalePrice'].plot(kind='kde',ax= ax)\n",
    "\n",
    "\n",
    "line, label = ax.get_legend_handles_labels()\n",
    "\n",
    "label = ['Original Variable','Imputed Variable']\n",
    "\n",
    "ax.legend(line,label,loc='best')\n",
    "\n",
    "plt.title('GarageQual')"
   ]
  },
  {
   "cell_type": "code",
   "execution_count": null,
   "id": "41cd1467",
   "metadata": {},
   "outputs": [],
   "source": [
    "df['FireplaceQu'].value_counts().plot(kind= 'bar')"
   ]
  },
  {
   "cell_type": "code",
   "execution_count": null,
   "id": "c8caac19",
   "metadata": {},
   "outputs": [],
   "source": [
    "df['FireplaceQu'].mode()"
   ]
  },
  {
   "cell_type": "code",
   "execution_count": null,
   "id": "9fff57bd",
   "metadata": {},
   "outputs": [],
   "source": [
    "fig = plt.figure()\n",
    "ax = fig.add_subplot(111)\n",
    "\n",
    "df[df['FireplaceQu']=='Gd']['SalePrice'].plot(kind='kde',ax= ax)\n",
    "\n",
    "df[df['FireplaceQu'].isnull()]['SalePrice'].plot(kind ='kde',ax= ax, color='red')\n",
    "\n",
    "line, label = ax.get_legend_handles_labels()\n",
    "\n",
    "label = ['House with Gd','House with NA']\n",
    "\n",
    "ax.legend(line,label,loc='best')\n",
    "\n",
    "plt.title('FireplaceQU')"
   ]
  },
  {
   "cell_type": "code",
   "execution_count": null,
   "id": "f3421897",
   "metadata": {},
   "outputs": [],
   "source": [
    "temp = df[df['FireplaceQu']=='Gd']['SalePrice']"
   ]
  },
  {
   "cell_type": "code",
   "execution_count": null,
   "id": "5fd9b950",
   "metadata": {},
   "outputs": [],
   "source": [
    "df['FireplaceQu'].fillna('Gd',inplace= True)"
   ]
  },
  {
   "cell_type": "code",
   "execution_count": null,
   "id": "56ea1c21",
   "metadata": {},
   "outputs": [],
   "source": [
    "df['FireplaceQu'].value_counts().plot(kind= 'bar')"
   ]
  },
  {
   "cell_type": "code",
   "execution_count": null,
   "id": "d2572d16",
   "metadata": {},
   "outputs": [],
   "source": [
    "fig = plt.figure()\n",
    "ax = fig.add_subplot(111)\n",
    "\n",
    "temp.plot(kind= 'kde',ax= ax)\n",
    "df[df['FireplaceQu']=='Gd']['SalePrice'].plot(kind='kde',ax= ax)\n",
    "\n",
    "\n",
    "line, label = ax.get_legend_handles_labels()\n",
    "\n",
    "label = ['Original Variable','Imputed Variable']\n",
    "\n",
    "ax.legend(line,label,loc='best')\n",
    "\n",
    "plt.title('GarageQual')"
   ]
  },
  {
   "cell_type": "code",
   "execution_count": 9,
   "id": "027d9181",
   "metadata": {},
   "outputs": [],
   "source": [
    "from sklearn.model_selection import train_test_split\n",
    "from sklearn.impute import SimpleImputer"
   ]
  },
  {
   "cell_type": "code",
   "execution_count": 10,
   "id": "55f6a026",
   "metadata": {},
   "outputs": [],
   "source": [
    " X_train, X_test, y_train, y_test = train_test_split(df.drop(columns=['SalePrice']), df['SalePrice'], test_size=0.2, random_state=42)"
   ]
  },
  {
   "cell_type": "code",
   "execution_count": null,
   "id": "58a4e73e",
   "metadata": {},
   "outputs": [],
   "source": [
    "imputer= SimpleImputer(strategy='most_frequent')"
   ]
  },
  {
   "cell_type": "code",
   "execution_count": null,
   "id": "b5971ffa",
   "metadata": {},
   "outputs": [],
   "source": [
    "X_train = imputer.fit_transform(X_train)\n",
    "X_test = imputer.transform(X_test)"
   ]
  },
  {
   "cell_type": "code",
   "execution_count": null,
   "id": "0ccb1e07",
   "metadata": {},
   "outputs": [],
   "source": [
    "imputer.statistics_"
   ]
  },
  {
   "cell_type": "markdown",
   "id": "e1e8c50d",
   "metadata": {},
   "source": [
    "# Missing Category Imputation"
   ]
  },
  {
   "cell_type": "code",
   "execution_count": 3,
   "id": "0271bfb9",
   "metadata": {},
   "outputs": [
    {
     "data": {
      "text/html": [
       "<div>\n",
       "<style scoped>\n",
       "    .dataframe tbody tr th:only-of-type {\n",
       "        vertical-align: middle;\n",
       "    }\n",
       "\n",
       "    .dataframe tbody tr th {\n",
       "        vertical-align: top;\n",
       "    }\n",
       "\n",
       "    .dataframe thead th {\n",
       "        text-align: right;\n",
       "    }\n",
       "</style>\n",
       "<table border=\"1\" class=\"dataframe\">\n",
       "  <thead>\n",
       "    <tr style=\"text-align: right;\">\n",
       "      <th></th>\n",
       "      <th>FireplaceQu</th>\n",
       "      <th>GarageQual</th>\n",
       "      <th>SalePrice</th>\n",
       "    </tr>\n",
       "  </thead>\n",
       "  <tbody>\n",
       "    <tr>\n",
       "      <th>0</th>\n",
       "      <td>NaN</td>\n",
       "      <td>TA</td>\n",
       "      <td>208500</td>\n",
       "    </tr>\n",
       "    <tr>\n",
       "      <th>1</th>\n",
       "      <td>TA</td>\n",
       "      <td>TA</td>\n",
       "      <td>181500</td>\n",
       "    </tr>\n",
       "    <tr>\n",
       "      <th>2</th>\n",
       "      <td>TA</td>\n",
       "      <td>TA</td>\n",
       "      <td>223500</td>\n",
       "    </tr>\n",
       "    <tr>\n",
       "      <th>3</th>\n",
       "      <td>Gd</td>\n",
       "      <td>TA</td>\n",
       "      <td>140000</td>\n",
       "    </tr>\n",
       "    <tr>\n",
       "      <th>4</th>\n",
       "      <td>TA</td>\n",
       "      <td>TA</td>\n",
       "      <td>250000</td>\n",
       "    </tr>\n",
       "  </tbody>\n",
       "</table>\n",
       "</div>"
      ],
      "text/plain": [
       "  FireplaceQu GarageQual  SalePrice\n",
       "0         NaN         TA     208500\n",
       "1          TA         TA     181500\n",
       "2          TA         TA     223500\n",
       "3          Gd         TA     140000\n",
       "4          TA         TA     250000"
      ]
     },
     "execution_count": 3,
     "metadata": {},
     "output_type": "execute_result"
    }
   ],
   "source": [
    "df.head()"
   ]
  },
  {
   "cell_type": "code",
   "execution_count": 4,
   "id": "027cd827",
   "metadata": {},
   "outputs": [
    {
     "data": {
      "text/plain": [
       "FireplaceQu    47.260274\n",
       "GarageQual      5.547945\n",
       "SalePrice       0.000000\n",
       "dtype: float64"
      ]
     },
     "execution_count": 4,
     "metadata": {},
     "output_type": "execute_result"
    }
   ],
   "source": [
    "df.isnull().mean()*100"
   ]
  },
  {
   "cell_type": "code",
   "execution_count": 5,
   "id": "ec82c74c",
   "metadata": {},
   "outputs": [
    {
     "data": {
      "text/plain": [
       "Text(0, 0.5, 'Number of house')"
      ]
     },
     "execution_count": 5,
     "metadata": {},
     "output_type": "execute_result"
    },
    {
     "data": {
      "image/png": "[encoded data removed]",
      "text/plain": [
       "<Figure size 432x288 with 1 Axes>"
      ]
     },
     "metadata": {
      "needs_background": "light"
     },
     "output_type": "display_data"
    }
   ],
   "source": [
    "df['GarageQual'].value_counts().sort_values(ascending=False).plot.bar()\n",
    "plt.xlabel('GarageQual')\n",
    "plt.ylabel('Number of house')"
   ]
  },
  {
   "cell_type": "code",
   "execution_count": 6,
   "id": "06c4f0b7",
   "metadata": {},
   "outputs": [],
   "source": [
    "df['GarageQual'].fillna('Missing',inplace = True)"
   ]
  },
  {
   "cell_type": "code",
   "execution_count": 7,
   "id": "35a54ab1",
   "metadata": {},
   "outputs": [
    {
     "data": {
      "text/plain": [
       "Text(0, 0.5, 'Number of house')"
      ]
     },
     "execution_count": 7,
     "metadata": {},
     "output_type": "execute_result"
    },
    {
     "data": {
      "image/png": "[encoded data removed]",
      "text/plain": [
       "<Figure size 432x288 with 1 Axes>"
      ]
     },
     "metadata": {
      "needs_background": "light"
     },
     "output_type": "display_data"
    }
   ],
   "source": [
    "df['GarageQual'].value_counts().sort_values(ascending=False).plot.bar()\n",
    "plt.xlabel('GarageQual')\n",
    "plt.ylabel('Number of house')"
   ]
  },
  {
   "cell_type": "code",
   "execution_count": 11,
   "id": "ea01717e",
   "metadata": {},
   "outputs": [],
   "source": [
    "imputer1 = SimpleImputer(strategy='constant',fill_value='missing')"
   ]
  },
  {
   "cell_type": "code",
   "execution_count": 13,
   "id": "5499831d",
   "metadata": {},
   "outputs": [],
   "source": [
    "X_train = imputer1.fit_transform(X_train)\n",
    "X_test = imputer1.transform(X_test)"
   ]
  },
  {
   "cell_type": "code",
   "execution_count": 14,
   "id": "559fa736",
   "metadata": {},
   "outputs": [
    {
     "data": {
      "text/plain": [
       "array(['missing', 'missing'], dtype=object)"
      ]
     },
     "execution_count": 14,
     "metadata": {},
     "output_type": "execute_result"
    }
   ],
   "source": [
    "imputer1.statistics_"
   ]
  },
  {
   "cell_type": "code",
   "execution_count": null,
   "id": "28c72a0a",
   "metadata": {},
   "outputs": [],
   "source": []
  }
 ],
 "metadata": {
  "kernelspec": {
   "display_name": "Python 3",
   "language": "python",
   "name": "python3"
  },
  "language_info": {
   "codemirror_mode": {
    "name": "ipython",
    "version": 3
   },
   "file_extension": ".py",
   "mimetype": "text/x-python",
   "name": "python",
   "nbconvert_exporter": "python",
   "pygments_lexer": "ipython3",
   "version": "3.8.8"
  }
 },
 "nbformat": 4,
 "nbformat_minor": 5
}
