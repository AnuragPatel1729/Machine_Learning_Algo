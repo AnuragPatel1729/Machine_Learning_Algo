{
 "cells": [
  {
   "cell_type": "code",
   "execution_count": 2,
   "id": "18edb106",
   "metadata": {},
   "outputs": [],
   "source": [
    "import pandas as pd\n",
    "import numpy as np"
   ]
  },
  {
   "cell_type": "code",
   "execution_count": 3,
   "id": "5e186e18",
   "metadata": {},
   "outputs": [],
   "source": [
    "movie_df = pd.read_csv('TMDB.csv')"
   ]
  },
  {
   "cell_type": "code",
   "execution_count": 4,
   "id": "5eb9e4ac",
   "metadata": {},
   "outputs": [
    {
     "data": {
      "text/html": [
       "<div>\n",
       "<style scoped>\n",
       "    .dataframe tbody tr th:only-of-type {\n",
       "        vertical-align: middle;\n",
       "    }\n",
       "\n",
       "    .dataframe tbody tr th {\n",
       "        vertical-align: top;\n",
       "    }\n",
       "\n",
       "    .dataframe thead th {\n",
       "        text-align: right;\n",
       "    }\n",
       "</style>\n",
       "<table border=\"1\" class=\"dataframe\">\n",
       "  <thead>\n",
       "    <tr style=\"text-align: right;\">\n",
       "      <th></th>\n",
       "      <th>original_title</th>\n",
       "      <th>overview</th>\n",
       "      <th>genres</th>\n",
       "    </tr>\n",
       "  </thead>\n",
       "  <tbody>\n",
       "    <tr>\n",
       "      <th>0</th>\n",
       "      <td>The Shawshank Redemption</td>\n",
       "      <td>Framed in the 1940s for the double murder of h...</td>\n",
       "      <td>Drama, Crime</td>\n",
       "    </tr>\n",
       "    <tr>\n",
       "      <th>1</th>\n",
       "      <td>The Godfather</td>\n",
       "      <td>Spanning the years 1945 to 1955, a chronicle o...</td>\n",
       "      <td>Drama, Crime</td>\n",
       "    </tr>\n",
       "    <tr>\n",
       "      <th>2</th>\n",
       "      <td>The Godfather Part II</td>\n",
       "      <td>In the continuing saga of the Corleone crime f...</td>\n",
       "      <td>Drama, Crime</td>\n",
       "    </tr>\n",
       "    <tr>\n",
       "      <th>3</th>\n",
       "      <td>Schindler's List</td>\n",
       "      <td>The true story of how businessman Oskar Schind...</td>\n",
       "      <td>Drama, History, War</td>\n",
       "    </tr>\n",
       "    <tr>\n",
       "      <th>4</th>\n",
       "      <td>12 Angry Men</td>\n",
       "      <td>The defense and the prosecution have rested an...</td>\n",
       "      <td>Drama</td>\n",
       "    </tr>\n",
       "    <tr>\n",
       "      <th>5</th>\n",
       "      <td>दिलवाले दुल्हनिया ले जायेंगे</td>\n",
       "      <td>Raj is a rich, carefree, happy-go-lucky second...</td>\n",
       "      <td>Comedy, Drama, Romance</td>\n",
       "    </tr>\n",
       "    <tr>\n",
       "      <th>6</th>\n",
       "      <td>千と千尋の神隠し</td>\n",
       "      <td>A young girl, Chihiro, becomes trapped in a st...</td>\n",
       "      <td>Animation, Family, Fantasy</td>\n",
       "    </tr>\n",
       "    <tr>\n",
       "      <th>7</th>\n",
       "      <td>The Dark Knight</td>\n",
       "      <td>Batman raises the stakes in his war on crime. ...</td>\n",
       "      <td>Drama, Action, Crime, Thriller</td>\n",
       "    </tr>\n",
       "    <tr>\n",
       "      <th>8</th>\n",
       "      <td>기생충</td>\n",
       "      <td>All unemployed, Ki-taek's family takes peculia...</td>\n",
       "      <td>Comedy, Thriller, Drama</td>\n",
       "    </tr>\n",
       "    <tr>\n",
       "      <th>9</th>\n",
       "      <td>The Green Mile</td>\n",
       "      <td>A supernatural tale set on death row in a Sout...</td>\n",
       "      <td>Fantasy, Drama, Crime</td>\n",
       "    </tr>\n",
       "  </tbody>\n",
       "</table>\n",
       "</div>"
      ],
      "text/plain": [
       "                 original_title  \\\n",
       "0      The Shawshank Redemption   \n",
       "1                 The Godfather   \n",
       "2         The Godfather Part II   \n",
       "3              Schindler's List   \n",
       "4                  12 Angry Men   \n",
       "5  दिलवाले दुल्हनिया ले जायेंगे   \n",
       "6                      千と千尋の神隠し   \n",
       "7               The Dark Knight   \n",
       "8                           기생충   \n",
       "9                The Green Mile   \n",
       "\n",
       "                                            overview  \\\n",
       "0  Framed in the 1940s for the double murder of h...   \n",
       "1  Spanning the years 1945 to 1955, a chronicle o...   \n",
       "2  In the continuing saga of the Corleone crime f...   \n",
       "3  The true story of how businessman Oskar Schind...   \n",
       "4  The defense and the prosecution have rested an...   \n",
       "5  Raj is a rich, carefree, happy-go-lucky second...   \n",
       "6  A young girl, Chihiro, becomes trapped in a st...   \n",
       "7  Batman raises the stakes in his war on crime. ...   \n",
       "8  All unemployed, Ki-taek's family takes peculia...   \n",
       "9  A supernatural tale set on death row in a Sout...   \n",
       "\n",
       "                           genres  \n",
       "0                    Drama, Crime  \n",
       "1                    Drama, Crime  \n",
       "2                    Drama, Crime  \n",
       "3             Drama, History, War  \n",
       "4                           Drama  \n",
       "5          Comedy, Drama, Romance  \n",
       "6      Animation, Family, Fantasy  \n",
       "7  Drama, Action, Crime, Thriller  \n",
       "8         Comedy, Thriller, Drama  \n",
       "9           Fantasy, Drama, Crime  "
      ]
     },
     "execution_count": 4,
     "metadata": {},
     "output_type": "execute_result"
    }
   ],
   "source": [
    "movie_df.head(10)"
   ]
  },
  {
   "cell_type": "code",
   "execution_count": 5,
   "id": "6a5d2cd5",
   "metadata": {},
   "outputs": [
    {
     "name": "stdout",
     "output_type": "stream",
     "text": [
      "<class 'pandas.core.frame.DataFrame'>\n",
      "RangeIndex: 9108 entries, 0 to 9107\n",
      "Data columns (total 3 columns):\n",
      " #   Column          Non-Null Count  Dtype \n",
      "---  ------          --------------  ----- \n",
      " 0   original_title  9108 non-null   object\n",
      " 1   overview        9106 non-null   object\n",
      " 2   genres          9106 non-null   object\n",
      "dtypes: object(3)\n",
      "memory usage: 213.6+ KB\n"
     ]
    }
   ],
   "source": [
    "movie_df.info()"
   ]
  },
  {
   "cell_type": "code",
   "execution_count": 6,
   "id": "29101a4e",
   "metadata": {},
   "outputs": [
    {
     "data": {
      "text/html": [
       "<div>\n",
       "<style scoped>\n",
       "    .dataframe tbody tr th:only-of-type {\n",
       "        vertical-align: middle;\n",
       "    }\n",
       "\n",
       "    .dataframe tbody tr th {\n",
       "        vertical-align: top;\n",
       "    }\n",
       "\n",
       "    .dataframe thead th {\n",
       "        text-align: right;\n",
       "    }\n",
       "</style>\n",
       "<table border=\"1\" class=\"dataframe\">\n",
       "  <thead>\n",
       "    <tr style=\"text-align: right;\">\n",
       "      <th></th>\n",
       "      <th>original_title</th>\n",
       "      <th>overview</th>\n",
       "      <th>genres</th>\n",
       "    </tr>\n",
       "  </thead>\n",
       "  <tbody>\n",
       "    <tr>\n",
       "      <th>951</th>\n",
       "      <td>ヱヴァンゲリヲン新劇場版：序</td>\n",
       "      <td>NaN</td>\n",
       "      <td>Animation, Science Fiction, Action, Drama</td>\n",
       "    </tr>\n",
       "    <tr>\n",
       "      <th>8893</th>\n",
       "      <td>Natale in crociera</td>\n",
       "      <td>NaN</td>\n",
       "      <td>Comedy</td>\n",
       "    </tr>\n",
       "  </tbody>\n",
       "</table>\n",
       "</div>"
      ],
      "text/plain": [
       "          original_title overview                                     genres\n",
       "951       ヱヴァンゲリヲン新劇場版：序      NaN  Animation, Science Fiction, Action, Drama\n",
       "8893  Natale in crociera      NaN                                     Comedy"
      ]
     },
     "execution_count": 6,
     "metadata": {},
     "output_type": "execute_result"
    }
   ],
   "source": [
    "movie_df[movie_df['overview'].isnull()]"
   ]
  },
  {
   "cell_type": "code",
   "execution_count": 7,
   "id": "87433ae8",
   "metadata": {},
   "outputs": [
    {
     "data": {
      "text/html": [
       "<div>\n",
       "<style scoped>\n",
       "    .dataframe tbody tr th:only-of-type {\n",
       "        vertical-align: middle;\n",
       "    }\n",
       "\n",
       "    .dataframe tbody tr th {\n",
       "        vertical-align: top;\n",
       "    }\n",
       "\n",
       "    .dataframe thead th {\n",
       "        text-align: right;\n",
       "    }\n",
       "</style>\n",
       "<table border=\"1\" class=\"dataframe\">\n",
       "  <thead>\n",
       "    <tr style=\"text-align: right;\">\n",
       "      <th></th>\n",
       "      <th>original_title</th>\n",
       "      <th>overview</th>\n",
       "      <th>genres</th>\n",
       "    </tr>\n",
       "  </thead>\n",
       "  <tbody>\n",
       "    <tr>\n",
       "      <th>3109</th>\n",
       "      <td>Anplagghed al cinema</td>\n",
       "      <td>A queue at the ATM machine, a displaced family...</td>\n",
       "      <td>NaN</td>\n",
       "    </tr>\n",
       "    <tr>\n",
       "      <th>3735</th>\n",
       "      <td>RETURN</td>\n",
       "      <td>8mm work directed by Norihiko Morinaga.</td>\n",
       "      <td>NaN</td>\n",
       "    </tr>\n",
       "  </tbody>\n",
       "</table>\n",
       "</div>"
      ],
      "text/plain": [
       "            original_title                                           overview  \\\n",
       "3109  Anplagghed al cinema  A queue at the ATM machine, a displaced family...   \n",
       "3735                RETURN            8mm work directed by Norihiko Morinaga.   \n",
       "\n",
       "     genres  \n",
       "3109    NaN  \n",
       "3735    NaN  "
      ]
     },
     "execution_count": 7,
     "metadata": {},
     "output_type": "execute_result"
    }
   ],
   "source": [
    "movie_df[movie_df['genres'].isnull()]"
   ]
  },
  {
   "cell_type": "code",
   "execution_count": 8,
   "id": "fea8206e",
   "metadata": {},
   "outputs": [],
   "source": [
    "movie_new_df = movie_df.dropna()"
   ]
  },
  {
   "cell_type": "code",
   "execution_count": 9,
   "id": "98a3a682",
   "metadata": {},
   "outputs": [
    {
     "name": "stdout",
     "output_type": "stream",
     "text": [
      "<class 'pandas.core.frame.DataFrame'>\n",
      "Index: 9104 entries, 0 to 9107\n",
      "Data columns (total 3 columns):\n",
      " #   Column          Non-Null Count  Dtype \n",
      "---  ------          --------------  ----- \n",
      " 0   original_title  9104 non-null   object\n",
      " 1   overview        9104 non-null   object\n",
      " 2   genres          9104 non-null   object\n",
      "dtypes: object(3)\n",
      "memory usage: 284.5+ KB\n"
     ]
    }
   ],
   "source": [
    "movie_new_df.info()"
   ]
  },
  {
   "cell_type": "markdown",
   "id": "3ee9b164",
   "metadata": {},
   "source": [
    "# Lowercasing"
   ]
  },
  {
   "cell_type": "code",
   "execution_count": 10,
   "id": "3c0b65a7",
   "metadata": {},
   "outputs": [
    {
     "name": "stderr",
     "output_type": "stream",
     "text": [
      "C:\\Users\\as233\\AppData\\Local\\Temp\\ipykernel_21180\\315783777.py:1: SettingWithCopyWarning: \n",
      "A value is trying to be set on a copy of a slice from a DataFrame.\n",
      "Try using .loc[row_indexer,col_indexer] = value instead\n",
      "\n",
      "See the caveats in the documentation: https://pandas.pydata.org/pandas-docs/stable/user_guide/indexing.html#returning-a-view-versus-a-copy\n",
      "  movie_new_df['original_title']= movie_new_df['original_title'].str.lower()\n",
      "C:\\Users\\as233\\AppData\\Local\\Temp\\ipykernel_21180\\315783777.py:2: SettingWithCopyWarning: \n",
      "A value is trying to be set on a copy of a slice from a DataFrame.\n",
      "Try using .loc[row_indexer,col_indexer] = value instead\n",
      "\n",
      "See the caveats in the documentation: https://pandas.pydata.org/pandas-docs/stable/user_guide/indexing.html#returning-a-view-versus-a-copy\n",
      "  movie_new_df['overview'] = movie_new_df['overview'].str.lower()\n",
      "C:\\Users\\as233\\AppData\\Local\\Temp\\ipykernel_21180\\315783777.py:3: SettingWithCopyWarning: \n",
      "A value is trying to be set on a copy of a slice from a DataFrame.\n",
      "Try using .loc[row_indexer,col_indexer] = value instead\n",
      "\n",
      "See the caveats in the documentation: https://pandas.pydata.org/pandas-docs/stable/user_guide/indexing.html#returning-a-view-versus-a-copy\n",
      "  movie_new_df['genres'] = movie_new_df['genres'].str.lower()\n"
     ]
    }
   ],
   "source": [
    "movie_new_df['original_title']= movie_new_df['original_title'].str.lower()\n",
    "movie_new_df['overview'] = movie_new_df['overview'].str.lower()\n",
    "movie_new_df['genres'] = movie_new_df['genres'].str.lower()"
   ]
  },
  {
   "cell_type": "code",
   "execution_count": 11,
   "id": "bbbf81c8",
   "metadata": {},
   "outputs": [
    {
     "data": {
      "text/plain": [
       "'framed in the 1940s for the double murder of his wife and her lover, upstanding banker andy dufresne begins a new life at the shawshank prison, where he puts his accounting skills to work for an amoral warden. during his long stretch in prison, dufresne comes to be admired by the other inmates -- including an older prisoner named red -- for his integrity and unquenchable sense of hope.'"
      ]
     },
     "execution_count": 11,
     "metadata": {},
     "output_type": "execute_result"
    }
   ],
   "source": [
    "movie_new_df.loc[0]['overview']"
   ]
  },
  {
   "cell_type": "markdown",
   "id": "228be207",
   "metadata": {},
   "source": [
    "# Remove Punctuations"
   ]
  },
  {
   "cell_type": "code",
   "execution_count": 12,
   "id": "f89c1704",
   "metadata": {},
   "outputs": [
    {
     "data": {
      "text/html": [
       "<div>\n",
       "<style scoped>\n",
       "    .dataframe tbody tr th:only-of-type {\n",
       "        vertical-align: middle;\n",
       "    }\n",
       "\n",
       "    .dataframe tbody tr th {\n",
       "        vertical-align: top;\n",
       "    }\n",
       "\n",
       "    .dataframe thead th {\n",
       "        text-align: right;\n",
       "    }\n",
       "</style>\n",
       "<table border=\"1\" class=\"dataframe\">\n",
       "  <thead>\n",
       "    <tr style=\"text-align: right;\">\n",
       "      <th></th>\n",
       "      <th>original_title</th>\n",
       "      <th>overview</th>\n",
       "      <th>genres</th>\n",
       "    </tr>\n",
       "  </thead>\n",
       "  <tbody>\n",
       "    <tr>\n",
       "      <th>0</th>\n",
       "      <td>the shawshank redemption</td>\n",
       "      <td>framed in the 1940s for the double murder of h...</td>\n",
       "      <td>drama, crime</td>\n",
       "    </tr>\n",
       "    <tr>\n",
       "      <th>1</th>\n",
       "      <td>the godfather</td>\n",
       "      <td>spanning the years 1945 to 1955, a chronicle o...</td>\n",
       "      <td>drama, crime</td>\n",
       "    </tr>\n",
       "    <tr>\n",
       "      <th>2</th>\n",
       "      <td>the godfather part ii</td>\n",
       "      <td>in the continuing saga of the corleone crime f...</td>\n",
       "      <td>drama, crime</td>\n",
       "    </tr>\n",
       "    <tr>\n",
       "      <th>3</th>\n",
       "      <td>schindler's list</td>\n",
       "      <td>the true story of how businessman oskar schind...</td>\n",
       "      <td>drama, history, war</td>\n",
       "    </tr>\n",
       "    <tr>\n",
       "      <th>4</th>\n",
       "      <td>12 angry men</td>\n",
       "      <td>the defense and the prosecution have rested an...</td>\n",
       "      <td>drama</td>\n",
       "    </tr>\n",
       "    <tr>\n",
       "      <th>5</th>\n",
       "      <td>दिलवाले दुल्हनिया ले जायेंगे</td>\n",
       "      <td>raj is a rich, carefree, happy-go-lucky second...</td>\n",
       "      <td>comedy, drama, romance</td>\n",
       "    </tr>\n",
       "    <tr>\n",
       "      <th>6</th>\n",
       "      <td>千と千尋の神隠し</td>\n",
       "      <td>a young girl, chihiro, becomes trapped in a st...</td>\n",
       "      <td>animation, family, fantasy</td>\n",
       "    </tr>\n",
       "    <tr>\n",
       "      <th>7</th>\n",
       "      <td>the dark knight</td>\n",
       "      <td>batman raises the stakes in his war on crime. ...</td>\n",
       "      <td>drama, action, crime, thriller</td>\n",
       "    </tr>\n",
       "    <tr>\n",
       "      <th>8</th>\n",
       "      <td>기생충</td>\n",
       "      <td>all unemployed, ki-taek's family takes peculia...</td>\n",
       "      <td>comedy, thriller, drama</td>\n",
       "    </tr>\n",
       "    <tr>\n",
       "      <th>9</th>\n",
       "      <td>the green mile</td>\n",
       "      <td>a supernatural tale set on death row in a sout...</td>\n",
       "      <td>fantasy, drama, crime</td>\n",
       "    </tr>\n",
       "  </tbody>\n",
       "</table>\n",
       "</div>"
      ],
      "text/plain": [
       "                 original_title  \\\n",
       "0      the shawshank redemption   \n",
       "1                 the godfather   \n",
       "2         the godfather part ii   \n",
       "3              schindler's list   \n",
       "4                  12 angry men   \n",
       "5  दिलवाले दुल्हनिया ले जायेंगे   \n",
       "6                      千と千尋の神隠し   \n",
       "7               the dark knight   \n",
       "8                           기생충   \n",
       "9                the green mile   \n",
       "\n",
       "                                            overview  \\\n",
       "0  framed in the 1940s for the double murder of h...   \n",
       "1  spanning the years 1945 to 1955, a chronicle o...   \n",
       "2  in the continuing saga of the corleone crime f...   \n",
       "3  the true story of how businessman oskar schind...   \n",
       "4  the defense and the prosecution have rested an...   \n",
       "5  raj is a rich, carefree, happy-go-lucky second...   \n",
       "6  a young girl, chihiro, becomes trapped in a st...   \n",
       "7  batman raises the stakes in his war on crime. ...   \n",
       "8  all unemployed, ki-taek's family takes peculia...   \n",
       "9  a supernatural tale set on death row in a sout...   \n",
       "\n",
       "                           genres  \n",
       "0                    drama, crime  \n",
       "1                    drama, crime  \n",
       "2                    drama, crime  \n",
       "3             drama, history, war  \n",
       "4                           drama  \n",
       "5          comedy, drama, romance  \n",
       "6      animation, family, fantasy  \n",
       "7  drama, action, crime, thriller  \n",
       "8         comedy, thriller, drama  \n",
       "9           fantasy, drama, crime  "
      ]
     },
     "execution_count": 12,
     "metadata": {},
     "output_type": "execute_result"
    }
   ],
   "source": [
    "movie_new_df.head(10)"
   ]
  },
  {
   "cell_type": "code",
   "execution_count": 13,
   "id": "fe7093c9",
   "metadata": {},
   "outputs": [
    {
     "data": {
      "text/plain": [
       "(9104, 3)"
      ]
     },
     "execution_count": 13,
     "metadata": {},
     "output_type": "execute_result"
    }
   ],
   "source": [
    "movie_new_df.shape"
   ]
  },
  {
   "cell_type": "code",
   "execution_count": 14,
   "id": "63084ede",
   "metadata": {},
   "outputs": [],
   "source": [
    "import string"
   ]
  },
  {
   "cell_type": "code",
   "execution_count": 15,
   "id": "b4dc1763",
   "metadata": {},
   "outputs": [],
   "source": [
    "char_word = string.punctuation\n",
    "def remove_punc(text):\n",
    "    return text.translate(str.maketrans('','', char_word))"
   ]
  },
  {
   "cell_type": "code",
   "execution_count": 16,
   "id": "fc0ac04b",
   "metadata": {},
   "outputs": [
    {
     "name": "stderr",
     "output_type": "stream",
     "text": [
      "C:\\Users\\as233\\AppData\\Local\\Temp\\ipykernel_21180\\3319768695.py:1: SettingWithCopyWarning: \n",
      "A value is trying to be set on a copy of a slice from a DataFrame.\n",
      "Try using .loc[row_indexer,col_indexer] = value instead\n",
      "\n",
      "See the caveats in the documentation: https://pandas.pydata.org/pandas-docs/stable/user_guide/indexing.html#returning-a-view-versus-a-copy\n",
      "  movie_new_df['overview'] = movie_new_df['overview'].apply(remove_punc)\n"
     ]
    }
   ],
   "source": [
    "movie_new_df['overview'] = movie_new_df['overview'].apply(remove_punc)"
   ]
  },
  {
   "cell_type": "code",
   "execution_count": 17,
   "id": "c21f44d2",
   "metadata": {},
   "outputs": [
    {
     "name": "stderr",
     "output_type": "stream",
     "text": [
      "C:\\Users\\as233\\AppData\\Local\\Temp\\ipykernel_21180\\121178046.py:1: SettingWithCopyWarning: \n",
      "A value is trying to be set on a copy of a slice from a DataFrame.\n",
      "Try using .loc[row_indexer,col_indexer] = value instead\n",
      "\n",
      "See the caveats in the documentation: https://pandas.pydata.org/pandas-docs/stable/user_guide/indexing.html#returning-a-view-versus-a-copy\n",
      "  movie_new_df['genres'] = movie_new_df['genres'].apply(remove_punc)\n"
     ]
    }
   ],
   "source": [
    "movie_new_df['genres'] = movie_new_df['genres'].apply(remove_punc)"
   ]
  },
  {
   "cell_type": "code",
   "execution_count": 18,
   "id": "02a4c8cc",
   "metadata": {},
   "outputs": [
    {
     "data": {
      "text/html": [
       "<div>\n",
       "<style scoped>\n",
       "    .dataframe tbody tr th:only-of-type {\n",
       "        vertical-align: middle;\n",
       "    }\n",
       "\n",
       "    .dataframe tbody tr th {\n",
       "        vertical-align: top;\n",
       "    }\n",
       "\n",
       "    .dataframe thead th {\n",
       "        text-align: right;\n",
       "    }\n",
       "</style>\n",
       "<table border=\"1\" class=\"dataframe\">\n",
       "  <thead>\n",
       "    <tr style=\"text-align: right;\">\n",
       "      <th></th>\n",
       "      <th>original_title</th>\n",
       "      <th>overview</th>\n",
       "      <th>genres</th>\n",
       "    </tr>\n",
       "  </thead>\n",
       "  <tbody>\n",
       "    <tr>\n",
       "      <th>0</th>\n",
       "      <td>the shawshank redemption</td>\n",
       "      <td>framed in the 1940s for the double murder of h...</td>\n",
       "      <td>drama crime</td>\n",
       "    </tr>\n",
       "    <tr>\n",
       "      <th>1</th>\n",
       "      <td>the godfather</td>\n",
       "      <td>spanning the years 1945 to 1955 a chronicle of...</td>\n",
       "      <td>drama crime</td>\n",
       "    </tr>\n",
       "    <tr>\n",
       "      <th>2</th>\n",
       "      <td>the godfather part ii</td>\n",
       "      <td>in the continuing saga of the corleone crime f...</td>\n",
       "      <td>drama crime</td>\n",
       "    </tr>\n",
       "    <tr>\n",
       "      <th>3</th>\n",
       "      <td>schindler's list</td>\n",
       "      <td>the true story of how businessman oskar schind...</td>\n",
       "      <td>drama history war</td>\n",
       "    </tr>\n",
       "    <tr>\n",
       "      <th>4</th>\n",
       "      <td>12 angry men</td>\n",
       "      <td>the defense and the prosecution have rested an...</td>\n",
       "      <td>drama</td>\n",
       "    </tr>\n",
       "  </tbody>\n",
       "</table>\n",
       "</div>"
      ],
      "text/plain": [
       "             original_title  \\\n",
       "0  the shawshank redemption   \n",
       "1             the godfather   \n",
       "2     the godfather part ii   \n",
       "3          schindler's list   \n",
       "4              12 angry men   \n",
       "\n",
       "                                            overview             genres  \n",
       "0  framed in the 1940s for the double murder of h...        drama crime  \n",
       "1  spanning the years 1945 to 1955 a chronicle of...        drama crime  \n",
       "2  in the continuing saga of the corleone crime f...        drama crime  \n",
       "3  the true story of how businessman oskar schind...  drama history war  \n",
       "4  the defense and the prosecution have rested an...              drama  "
      ]
     },
     "execution_count": 18,
     "metadata": {},
     "output_type": "execute_result"
    }
   ],
   "source": [
    "movie_new_df.head()"
   ]
  },
  {
   "cell_type": "markdown",
   "id": "f1af16cc",
   "metadata": {},
   "source": [
    "# Spelling Correction"
   ]
  },
  {
   "cell_type": "code",
   "execution_count": 19,
   "id": "091aa121",
   "metadata": {},
   "outputs": [],
   "source": [
    "#!pip install swifter"
   ]
  },
  {
   "cell_type": "code",
   "execution_count": 20,
   "id": "b5268cbd",
   "metadata": {},
   "outputs": [],
   "source": [
    "import swifter"
   ]
  },
  {
   "cell_type": "code",
   "execution_count": 21,
   "id": "c674c32d",
   "metadata": {},
   "outputs": [],
   "source": [
    "from textblob import TextBlob"
   ]
  },
  {
   "cell_type": "code",
   "execution_count": 22,
   "id": "b4503e66",
   "metadata": {},
   "outputs": [],
   "source": [
    "def spelling_correct(text):\n",
    "    blb = TextBlob(text)\n",
    "    return blb.correct().string"
   ]
  },
  {
   "cell_type": "code",
   "execution_count": 23,
   "id": "2493bbd8",
   "metadata": {},
   "outputs": [],
   "source": [
    "text = movie_new_df.loc[0]['overview']"
   ]
  },
  {
   "cell_type": "code",
   "execution_count": 24,
   "id": "694c76e8",
   "metadata": {},
   "outputs": [
    {
     "data": {
      "text/plain": [
       "'framed in the 1940s for the double murder of his wife and her lover standing banker andy duquesne begins a new life at the shawshank prison where he puts his accounting skill to work for an moral garden during his long stretch in prison duquesne comes to be admired by the other inmates  including an older prisoner named red  for his integrity and unquenchable sense of hope'"
      ]
     },
     "execution_count": 24,
     "metadata": {},
     "output_type": "execute_result"
    }
   ],
   "source": [
    "spelling_correct(\"framed in the 1940s for the double murder of his wife and her lover upstanding banker andy dufresne begins a new life at the shawshank prison where he puts his accounting skills to work for an amoral warden during his long stretch in prison dufresne comes to be admired by the other inmates  including an older prisoner named red  for his integrity and unquenchable sense of hope\")"
   ]
  },
  {
   "cell_type": "code",
   "execution_count": 28,
   "id": "67e04afc",
   "metadata": {},
   "outputs": [],
   "source": [
    "#movie_new_df['overview'] = movie_new_df['overview'].swifter.apply(spelling_correct)"
   ]
  },
  {
   "cell_type": "markdown",
   "id": "a98313f8",
   "metadata": {},
   "source": [
    "# Stopwords"
   ]
  },
  {
   "cell_type": "code",
   "execution_count": 26,
   "id": "b8d0f1df",
   "metadata": {},
   "outputs": [
    {
     "name": "stderr",
     "output_type": "stream",
     "text": [
      "[nltk_data] Downloading package stopwords to\n",
      "[nltk_data]     C:\\Users\\as233\\AppData\\Roaming\\nltk_data...\n",
      "[nltk_data]   Package stopwords is already up-to-date!\n"
     ]
    },
    {
     "data": {
      "text/plain": [
       "True"
      ]
     },
     "execution_count": 26,
     "metadata": {},
     "output_type": "execute_result"
    }
   ],
   "source": [
    "import nltk\n",
    "from nltk.corpus import stopwords\n",
    "nltk.download('stopwords')"
   ]
  },
  {
   "cell_type": "code",
   "execution_count": 27,
   "id": "8f02f0d9",
   "metadata": {},
   "outputs": [],
   "source": [
    "stop_words = set(stopwords.words('english'))\n",
    "def remove_stopwords(sentence):\n",
    "    words = sentence.split()\n",
    "    filtered_words = [word for word in words if word not in stop_words]\n",
    "    return \" \".join(filtered_words)"
   ]
  },
  {
   "cell_type": "code",
   "execution_count": 28,
   "id": "4643689e",
   "metadata": {},
   "outputs": [
    {
     "data": {
      "application/vnd.jupyter.widget-view+json": {
       "model_id": "61ea309c2171473d8153306bb66928d1",
       "version_major": 2,
       "version_minor": 0
      },
      "text/plain": [
       "Pandas Apply:   0%|          | 0/9104 [00:00<?, ?it/s]"
      ]
     },
     "metadata": {},
     "output_type": "display_data"
    },
    {
     "name": "stderr",
     "output_type": "stream",
     "text": [
      "C:\\Users\\as233\\AppData\\Local\\Temp\\ipykernel_21180\\3107540291.py:1: SettingWithCopyWarning: \n",
      "A value is trying to be set on a copy of a slice from a DataFrame.\n",
      "Try using .loc[row_indexer,col_indexer] = value instead\n",
      "\n",
      "See the caveats in the documentation: https://pandas.pydata.org/pandas-docs/stable/user_guide/indexing.html#returning-a-view-versus-a-copy\n",
      "  movie_new_df['overview'] = movie_new_df['overview'].swifter.apply(remove_stopwords)\n"
     ]
    }
   ],
   "source": [
    "movie_new_df['overview'] = movie_new_df['overview'].swifter.apply(remove_stopwords)"
   ]
  },
  {
   "cell_type": "code",
   "execution_count": 29,
   "id": "68c40630",
   "metadata": {},
   "outputs": [
    {
     "data": {
      "text/plain": [
       "'framed 1940s double murder wife lover upstanding banker andy dufresne begins new life shawshank prison puts accounting skills work amoral warden long stretch prison dufresne comes admired inmates including older prisoner named red integrity unquenchable sense hope'"
      ]
     },
     "execution_count": 29,
     "metadata": {},
     "output_type": "execute_result"
    }
   ],
   "source": [
    "movie_new_df.loc[0]['overview']"
   ]
  },
  {
   "cell_type": "markdown",
   "id": "4078f428",
   "metadata": {},
   "source": [
    "# Tokenization"
   ]
  },
  {
   "cell_type": "code",
   "execution_count": 30,
   "id": "1f366be4",
   "metadata": {},
   "outputs": [],
   "source": [
    "import spacy"
   ]
  },
  {
   "cell_type": "code",
   "execution_count": 31,
   "id": "9874b93a",
   "metadata": {},
   "outputs": [],
   "source": [
    "nlp = spacy.load('en_core_web_sm')"
   ]
  },
  {
   "cell_type": "code",
   "execution_count": 32,
   "id": "aa89258b",
   "metadata": {},
   "outputs": [],
   "source": [
    "def tokenization(text):\n",
    "    return nlp(text)"
   ]
  },
  {
   "cell_type": "code",
   "execution_count": 33,
   "id": "e8ade394",
   "metadata": {},
   "outputs": [
    {
     "data": {
      "application/vnd.jupyter.widget-view+json": {
       "model_id": "67f8bf7a81374806b3819db2cedaed7c",
       "version_major": 2,
       "version_minor": 0
      },
      "text/plain": [
       "Pandas Apply:   0%|          | 0/9104 [00:00<?, ?it/s]"
      ]
     },
     "metadata": {},
     "output_type": "display_data"
    },
    {
     "name": "stderr",
     "output_type": "stream",
     "text": [
      "C:\\Users\\as233\\AppData\\Local\\Temp\\ipykernel_21180\\3820461763.py:1: SettingWithCopyWarning: \n",
      "A value is trying to be set on a copy of a slice from a DataFrame.\n",
      "Try using .loc[row_indexer,col_indexer] = value instead\n",
      "\n",
      "See the caveats in the documentation: https://pandas.pydata.org/pandas-docs/stable/user_guide/indexing.html#returning-a-view-versus-a-copy\n",
      "  movie_new_df['overview'] = movie_new_df['overview'].swifter.apply(tokenization)\n"
     ]
    }
   ],
   "source": [
    "movie_new_df['overview'] = movie_new_df['overview'].swifter.apply(tokenization)"
   ]
  },
  {
   "cell_type": "code",
   "execution_count": 34,
   "id": "1d507bc7",
   "metadata": {},
   "outputs": [
    {
     "data": {
      "application/vnd.jupyter.widget-view+json": {
       "model_id": "14e9c8fe5da8472f87dcd036894ee854",
       "version_major": 2,
       "version_minor": 0
      },
      "text/plain": [
       "Pandas Apply:   0%|          | 0/9104 [00:00<?, ?it/s]"
      ]
     },
     "metadata": {},
     "output_type": "display_data"
    },
    {
     "name": "stderr",
     "output_type": "stream",
     "text": [
      "C:\\Users\\as233\\AppData\\Local\\Temp\\ipykernel_21180\\4292164936.py:1: SettingWithCopyWarning: \n",
      "A value is trying to be set on a copy of a slice from a DataFrame.\n",
      "Try using .loc[row_indexer,col_indexer] = value instead\n",
      "\n",
      "See the caveats in the documentation: https://pandas.pydata.org/pandas-docs/stable/user_guide/indexing.html#returning-a-view-versus-a-copy\n",
      "  movie_new_df['genres'] = movie_new_df['genres'].swifter.apply(tokenization)\n"
     ]
    }
   ],
   "source": [
    "movie_new_df['genres'] = movie_new_df['genres'].swifter.apply(tokenization)"
   ]
  },
  {
   "cell_type": "code",
   "execution_count": 37,
   "id": "0f901515",
   "metadata": {},
   "outputs": [
    {
     "data": {
      "text/html": [
       "<div>\n",
       "<style scoped>\n",
       "    .dataframe tbody tr th:only-of-type {\n",
       "        vertical-align: middle;\n",
       "    }\n",
       "\n",
       "    .dataframe tbody tr th {\n",
       "        vertical-align: top;\n",
       "    }\n",
       "\n",
       "    .dataframe thead th {\n",
       "        text-align: right;\n",
       "    }\n",
       "</style>\n",
       "<table border=\"1\" class=\"dataframe\">\n",
       "  <thead>\n",
       "    <tr style=\"text-align: right;\">\n",
       "      <th></th>\n",
       "      <th>original_title</th>\n",
       "      <th>overview</th>\n",
       "      <th>genres</th>\n",
       "    </tr>\n",
       "  </thead>\n",
       "  <tbody>\n",
       "    <tr>\n",
       "      <th>0</th>\n",
       "      <td>the shawshank redemption</td>\n",
       "      <td>(framed, 1940s, double, murder, wife, lover, u...</td>\n",
       "      <td>(drama, crime)</td>\n",
       "    </tr>\n",
       "    <tr>\n",
       "      <th>1</th>\n",
       "      <td>the godfather</td>\n",
       "      <td>(spanning, years, 1945, 1955, chronicle, ficti...</td>\n",
       "      <td>(drama, crime)</td>\n",
       "    </tr>\n",
       "    <tr>\n",
       "      <th>2</th>\n",
       "      <td>the godfather part ii</td>\n",
       "      <td>(continuing, saga, corleone, crime, family, yo...</td>\n",
       "      <td>(drama, crime)</td>\n",
       "    </tr>\n",
       "    <tr>\n",
       "      <th>3</th>\n",
       "      <td>schindler's list</td>\n",
       "      <td>(true, story, businessman, oskar, schindler, s...</td>\n",
       "      <td>(drama, history, war)</td>\n",
       "    </tr>\n",
       "    <tr>\n",
       "      <th>4</th>\n",
       "      <td>12 angry men</td>\n",
       "      <td>(defense, prosecution, rested, jury, filing, j...</td>\n",
       "      <td>(drama)</td>\n",
       "    </tr>\n",
       "    <tr>\n",
       "      <th>5</th>\n",
       "      <td>दिलवाले दुल्हनिया ले जायेंगे</td>\n",
       "      <td>(raj, rich, carefree, happygolucky, second, ge...</td>\n",
       "      <td>(comedy, drama, romance)</td>\n",
       "    </tr>\n",
       "    <tr>\n",
       "      <th>6</th>\n",
       "      <td>千と千尋の神隠し</td>\n",
       "      <td>(young, girl, chihiro, becomes, trapped, stran...</td>\n",
       "      <td>(animation, family, fantasy)</td>\n",
       "    </tr>\n",
       "    <tr>\n",
       "      <th>7</th>\n",
       "      <td>the dark knight</td>\n",
       "      <td>(batman, raises, stakes, war, crime, help, lt,...</td>\n",
       "      <td>(drama, action, crime, thriller)</td>\n",
       "    </tr>\n",
       "    <tr>\n",
       "      <th>8</th>\n",
       "      <td>기생충</td>\n",
       "      <td>(unemployed, kitaeks, family, takes, peculiar,...</td>\n",
       "      <td>(comedy, thriller, drama)</td>\n",
       "    </tr>\n",
       "    <tr>\n",
       "      <th>9</th>\n",
       "      <td>the green mile</td>\n",
       "      <td>(supernatural, tale, set, death, row, southern...</td>\n",
       "      <td>(fantasy, drama, crime)</td>\n",
       "    </tr>\n",
       "  </tbody>\n",
       "</table>\n",
       "</div>"
      ],
      "text/plain": [
       "                 original_title  \\\n",
       "0      the shawshank redemption   \n",
       "1                 the godfather   \n",
       "2         the godfather part ii   \n",
       "3              schindler's list   \n",
       "4                  12 angry men   \n",
       "5  दिलवाले दुल्हनिया ले जायेंगे   \n",
       "6                      千と千尋の神隠し   \n",
       "7               the dark knight   \n",
       "8                           기생충   \n",
       "9                the green mile   \n",
       "\n",
       "                                            overview  \\\n",
       "0  (framed, 1940s, double, murder, wife, lover, u...   \n",
       "1  (spanning, years, 1945, 1955, chronicle, ficti...   \n",
       "2  (continuing, saga, corleone, crime, family, yo...   \n",
       "3  (true, story, businessman, oskar, schindler, s...   \n",
       "4  (defense, prosecution, rested, jury, filing, j...   \n",
       "5  (raj, rich, carefree, happygolucky, second, ge...   \n",
       "6  (young, girl, chihiro, becomes, trapped, stran...   \n",
       "7  (batman, raises, stakes, war, crime, help, lt,...   \n",
       "8  (unemployed, kitaeks, family, takes, peculiar,...   \n",
       "9  (supernatural, tale, set, death, row, southern...   \n",
       "\n",
       "                             genres  \n",
       "0                    (drama, crime)  \n",
       "1                    (drama, crime)  \n",
       "2                    (drama, crime)  \n",
       "3             (drama, history, war)  \n",
       "4                           (drama)  \n",
       "5          (comedy, drama, romance)  \n",
       "6      (animation, family, fantasy)  \n",
       "7  (drama, action, crime, thriller)  \n",
       "8         (comedy, thriller, drama)  \n",
       "9           (fantasy, drama, crime)  "
      ]
     },
     "execution_count": 37,
     "metadata": {},
     "output_type": "execute_result"
    }
   ],
   "source": [
    "movie_new_df.head(10)"
   ]
  },
  {
   "cell_type": "code",
   "execution_count": 44,
   "id": "964f834c",
   "metadata": {},
   "outputs": [
    {
     "data": {
      "text/plain": [
       "framed 1940s double murder wife lover upstanding banker andy dufresne begins new life shawshank prison puts accounting skills work amoral warden long stretch prison dufresne comes admired inmates including older prisoner named red integrity unquenchable sense hope"
      ]
     },
     "execution_count": 44,
     "metadata": {},
     "output_type": "execute_result"
    }
   ],
   "source": [
    "movie_new_df.loc[0]['overview']"
   ]
  },
  {
   "cell_type": "markdown",
   "id": "5321cbef",
   "metadata": {},
   "source": [
    "# Stemming"
   ]
  },
  {
   "cell_type": "code",
   "execution_count": 41,
   "id": "dfbaf722",
   "metadata": {},
   "outputs": [],
   "source": [
    "from nltk import WordNetLemmatizer"
   ]
  },
  {
   "cell_type": "code",
   "execution_count": 54,
   "id": "d3d65d5f",
   "metadata": {},
   "outputs": [],
   "source": [
    "def stemming(tokens):\n",
    "    wordnet_lemmatizer = WordNetLemmatizer()\n",
    "    sent = [wordnet_lemmatizer.lemmatize(token.text) for token in tokens]\n",
    "    return sent"
   ]
  },
  {
   "cell_type": "code",
   "execution_count": 56,
   "id": "c19be6ce",
   "metadata": {},
   "outputs": [
    {
     "data": {
      "application/vnd.jupyter.widget-view+json": {
       "model_id": "b51ddca6b9be418db007173e75a55ff5",
       "version_major": 2,
       "version_minor": 0
      },
      "text/plain": [
       "Pandas Apply:   0%|          | 0/9104 [00:00<?, ?it/s]"
      ]
     },
     "metadata": {},
     "output_type": "display_data"
    },
    {
     "name": "stderr",
     "output_type": "stream",
     "text": [
      "C:\\Users\\as233\\AppData\\Local\\Temp\\ipykernel_21180\\2307086190.py:1: SettingWithCopyWarning: \n",
      "A value is trying to be set on a copy of a slice from a DataFrame.\n",
      "Try using .loc[row_indexer,col_indexer] = value instead\n",
      "\n",
      "See the caveats in the documentation: https://pandas.pydata.org/pandas-docs/stable/user_guide/indexing.html#returning-a-view-versus-a-copy\n",
      "  movie_new_df['overview'] = movie_new_df['overview'].swifter.apply(stemming)\n"
     ]
    }
   ],
   "source": [
    "movie_new_df['overview'] = movie_new_df['overview'].swifter.apply(stemming)"
   ]
  },
  {
   "cell_type": "code",
   "execution_count": 57,
   "id": "1713080a",
   "metadata": {},
   "outputs": [
    {
     "data": {
      "application/vnd.jupyter.widget-view+json": {
       "model_id": "932bec49d1e048debd533eb0bef0bc1b",
       "version_major": 2,
       "version_minor": 0
      },
      "text/plain": [
       "Pandas Apply:   0%|          | 0/9104 [00:00<?, ?it/s]"
      ]
     },
     "metadata": {},
     "output_type": "display_data"
    },
    {
     "name": "stderr",
     "output_type": "stream",
     "text": [
      "C:\\Users\\as233\\AppData\\Local\\Temp\\ipykernel_21180\\273646323.py:1: SettingWithCopyWarning: \n",
      "A value is trying to be set on a copy of a slice from a DataFrame.\n",
      "Try using .loc[row_indexer,col_indexer] = value instead\n",
      "\n",
      "See the caveats in the documentation: https://pandas.pydata.org/pandas-docs/stable/user_guide/indexing.html#returning-a-view-versus-a-copy\n",
      "  movie_new_df['genres'] = movie_new_df['genres'].swifter.apply(stemming)\n"
     ]
    }
   ],
   "source": [
    "movie_new_df['genres'] = movie_new_df['genres'].swifter.apply(stemming)"
   ]
  },
  {
   "cell_type": "code",
   "execution_count": 58,
   "id": "d0082a6b",
   "metadata": {},
   "outputs": [
    {
     "data": {
      "text/html": [
       "<div>\n",
       "<style scoped>\n",
       "    .dataframe tbody tr th:only-of-type {\n",
       "        vertical-align: middle;\n",
       "    }\n",
       "\n",
       "    .dataframe tbody tr th {\n",
       "        vertical-align: top;\n",
       "    }\n",
       "\n",
       "    .dataframe thead th {\n",
       "        text-align: right;\n",
       "    }\n",
       "</style>\n",
       "<table border=\"1\" class=\"dataframe\">\n",
       "  <thead>\n",
       "    <tr style=\"text-align: right;\">\n",
       "      <th></th>\n",
       "      <th>original_title</th>\n",
       "      <th>overview</th>\n",
       "      <th>genres</th>\n",
       "    </tr>\n",
       "  </thead>\n",
       "  <tbody>\n",
       "    <tr>\n",
       "      <th>0</th>\n",
       "      <td>the shawshank redemption</td>\n",
       "      <td>[framed, 1940s, double, murder, wife, lover, u...</td>\n",
       "      <td>[drama, crime]</td>\n",
       "    </tr>\n",
       "    <tr>\n",
       "      <th>1</th>\n",
       "      <td>the godfather</td>\n",
       "      <td>[spanning, year, 1945, 1955, chronicle, fictio...</td>\n",
       "      <td>[drama, crime]</td>\n",
       "    </tr>\n",
       "    <tr>\n",
       "      <th>2</th>\n",
       "      <td>the godfather part ii</td>\n",
       "      <td>[continuing, saga, corleone, crime, family, yo...</td>\n",
       "      <td>[drama, crime]</td>\n",
       "    </tr>\n",
       "    <tr>\n",
       "      <th>3</th>\n",
       "      <td>schindler's list</td>\n",
       "      <td>[true, story, businessman, oskar, schindler, s...</td>\n",
       "      <td>[drama, history, war]</td>\n",
       "    </tr>\n",
       "    <tr>\n",
       "      <th>4</th>\n",
       "      <td>12 angry men</td>\n",
       "      <td>[defense, prosecution, rested, jury, filing, j...</td>\n",
       "      <td>[drama]</td>\n",
       "    </tr>\n",
       "    <tr>\n",
       "      <th>5</th>\n",
       "      <td>दिलवाले दुल्हनिया ले जायेंगे</td>\n",
       "      <td>[raj, rich, carefree, happygolucky, second, ge...</td>\n",
       "      <td>[comedy, drama, romance]</td>\n",
       "    </tr>\n",
       "    <tr>\n",
       "      <th>6</th>\n",
       "      <td>千と千尋の神隠し</td>\n",
       "      <td>[young, girl, chihiro, becomes, trapped, stran...</td>\n",
       "      <td>[animation, family, fantasy]</td>\n",
       "    </tr>\n",
       "    <tr>\n",
       "      <th>7</th>\n",
       "      <td>the dark knight</td>\n",
       "      <td>[batman, raise, stake, war, crime, help, lt, j...</td>\n",
       "      <td>[drama, action, crime, thriller]</td>\n",
       "    </tr>\n",
       "    <tr>\n",
       "      <th>8</th>\n",
       "      <td>기생충</td>\n",
       "      <td>[unemployed, kitaeks, family, take, peculiar, ...</td>\n",
       "      <td>[comedy, thriller, drama]</td>\n",
       "    </tr>\n",
       "    <tr>\n",
       "      <th>9</th>\n",
       "      <td>the green mile</td>\n",
       "      <td>[supernatural, tale, set, death, row, southern...</td>\n",
       "      <td>[fantasy, drama, crime]</td>\n",
       "    </tr>\n",
       "  </tbody>\n",
       "</table>\n",
       "</div>"
      ],
      "text/plain": [
       "                 original_title  \\\n",
       "0      the shawshank redemption   \n",
       "1                 the godfather   \n",
       "2         the godfather part ii   \n",
       "3              schindler's list   \n",
       "4                  12 angry men   \n",
       "5  दिलवाले दुल्हनिया ले जायेंगे   \n",
       "6                      千と千尋の神隠し   \n",
       "7               the dark knight   \n",
       "8                           기생충   \n",
       "9                the green mile   \n",
       "\n",
       "                                            overview  \\\n",
       "0  [framed, 1940s, double, murder, wife, lover, u...   \n",
       "1  [spanning, year, 1945, 1955, chronicle, fictio...   \n",
       "2  [continuing, saga, corleone, crime, family, yo...   \n",
       "3  [true, story, businessman, oskar, schindler, s...   \n",
       "4  [defense, prosecution, rested, jury, filing, j...   \n",
       "5  [raj, rich, carefree, happygolucky, second, ge...   \n",
       "6  [young, girl, chihiro, becomes, trapped, stran...   \n",
       "7  [batman, raise, stake, war, crime, help, lt, j...   \n",
       "8  [unemployed, kitaeks, family, take, peculiar, ...   \n",
       "9  [supernatural, tale, set, death, row, southern...   \n",
       "\n",
       "                             genres  \n",
       "0                    [drama, crime]  \n",
       "1                    [drama, crime]  \n",
       "2                    [drama, crime]  \n",
       "3             [drama, history, war]  \n",
       "4                           [drama]  \n",
       "5          [comedy, drama, romance]  \n",
       "6      [animation, family, fantasy]  \n",
       "7  [drama, action, crime, thriller]  \n",
       "8         [comedy, thriller, drama]  \n",
       "9           [fantasy, drama, crime]  "
      ]
     },
     "execution_count": 58,
     "metadata": {},
     "output_type": "execute_result"
    }
   ],
   "source": [
    "movie_new_df.head(10)"
   ]
  },
  {
   "cell_type": "code",
   "execution_count": 59,
   "id": "5f7306c5",
   "metadata": {},
   "outputs": [
    {
     "data": {
      "text/plain": [
       "list"
      ]
     },
     "execution_count": 59,
     "metadata": {},
     "output_type": "execute_result"
    }
   ],
   "source": []
  },
  {
   "cell_type": "code",
   "execution_count": null,
   "id": "22b3bba4",
   "metadata": {},
   "outputs": [],
   "source": []
  }
 ],
 "metadata": {
  "kernelspec": {
   "display_name": "Python 3 (ipykernel)",
   "language": "python",
   "name": "python3"
  },
  "language_info": {
   "codemirror_mode": {
    "name": "ipython",
    "version": 3
   },
   "file_extension": ".py",
   "mimetype": "text/x-python",
   "name": "python",
   "nbconvert_exporter": "python",
   "pygments_lexer": "ipython3",
   "version": "3.11.5"
  }
 },
 "nbformat": 4,
 "nbformat_minor": 5
}
