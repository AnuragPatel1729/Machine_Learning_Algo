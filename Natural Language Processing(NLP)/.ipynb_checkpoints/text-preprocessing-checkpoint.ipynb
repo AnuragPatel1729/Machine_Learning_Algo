{
 "cells": [
  {
   "cell_type": "code",
   "execution_count": 1,
   "id": "7c608921",
   "metadata": {},
   "outputs": [],
   "source": [
    "import numpy as np\n",
    "import pandas as pd"
   ]
  },
  {
   "cell_type": "code",
   "execution_count": 2,
   "id": "14fd7f59",
   "metadata": {},
   "outputs": [],
   "source": [
    "df = pd.read_csv('IMDB Dataset.csv')"
   ]
  },
  {
   "cell_type": "code",
   "execution_count": 3,
   "id": "b93aef01",
   "metadata": {},
   "outputs": [
    {
     "data": {
      "text/html": [
       "<div>\n",
       "<style scoped>\n",
       "    .dataframe tbody tr th:only-of-type {\n",
       "        vertical-align: middle;\n",
       "    }\n",
       "\n",
       "    .dataframe tbody tr th {\n",
       "        vertical-align: top;\n",
       "    }\n",
       "\n",
       "    .dataframe thead th {\n",
       "        text-align: right;\n",
       "    }\n",
       "</style>\n",
       "<table border=\"1\" class=\"dataframe\">\n",
       "  <thead>\n",
       "    <tr style=\"text-align: right;\">\n",
       "      <th></th>\n",
       "      <th>review</th>\n",
       "      <th>sentiment</th>\n",
       "    </tr>\n",
       "  </thead>\n",
       "  <tbody>\n",
       "    <tr>\n",
       "      <th>0</th>\n",
       "      <td>One of the other reviewers has mentioned that ...</td>\n",
       "      <td>positive</td>\n",
       "    </tr>\n",
       "    <tr>\n",
       "      <th>1</th>\n",
       "      <td>A wonderful little production. &lt;br /&gt;&lt;br /&gt;The...</td>\n",
       "      <td>positive</td>\n",
       "    </tr>\n",
       "    <tr>\n",
       "      <th>2</th>\n",
       "      <td>I thought this was a wonderful way to spend ti...</td>\n",
       "      <td>positive</td>\n",
       "    </tr>\n",
       "    <tr>\n",
       "      <th>3</th>\n",
       "      <td>Basically there's a family where a little boy ...</td>\n",
       "      <td>negative</td>\n",
       "    </tr>\n",
       "    <tr>\n",
       "      <th>4</th>\n",
       "      <td>Petter Mattei's \"Love in the Time of Money\" is...</td>\n",
       "      <td>positive</td>\n",
       "    </tr>\n",
       "  </tbody>\n",
       "</table>\n",
       "</div>"
      ],
      "text/plain": [
       "                                              review sentiment\n",
       "0  One of the other reviewers has mentioned that ...  positive\n",
       "1  A wonderful little production. <br /><br />The...  positive\n",
       "2  I thought this was a wonderful way to spend ti...  positive\n",
       "3  Basically there's a family where a little boy ...  negative\n",
       "4  Petter Mattei's \"Love in the Time of Money\" is...  positive"
      ]
     },
     "execution_count": 3,
     "metadata": {},
     "output_type": "execute_result"
    }
   ],
   "source": [
    "df.head()"
   ]
  },
  {
   "cell_type": "markdown",
   "id": "3a130611",
   "metadata": {},
   "source": [
    "# Lowercasing"
   ]
  },
  {
   "cell_type": "code",
   "execution_count": 5,
   "id": "40993ea3",
   "metadata": {},
   "outputs": [],
   "source": [
    "df['review']=df['review'].str.lower()"
   ]
  },
  {
   "cell_type": "code",
   "execution_count": 6,
   "id": "c1f346f5",
   "metadata": {},
   "outputs": [
    {
     "data": {
      "text/html": [
       "<div>\n",
       "<style scoped>\n",
       "    .dataframe tbody tr th:only-of-type {\n",
       "        vertical-align: middle;\n",
       "    }\n",
       "\n",
       "    .dataframe tbody tr th {\n",
       "        vertical-align: top;\n",
       "    }\n",
       "\n",
       "    .dataframe thead th {\n",
       "        text-align: right;\n",
       "    }\n",
       "</style>\n",
       "<table border=\"1\" class=\"dataframe\">\n",
       "  <thead>\n",
       "    <tr style=\"text-align: right;\">\n",
       "      <th></th>\n",
       "      <th>review</th>\n",
       "      <th>sentiment</th>\n",
       "    </tr>\n",
       "  </thead>\n",
       "  <tbody>\n",
       "    <tr>\n",
       "      <th>0</th>\n",
       "      <td>one of the other reviewers has mentioned that ...</td>\n",
       "      <td>positive</td>\n",
       "    </tr>\n",
       "    <tr>\n",
       "      <th>1</th>\n",
       "      <td>a wonderful little production. &lt;br /&gt;&lt;br /&gt;the...</td>\n",
       "      <td>positive</td>\n",
       "    </tr>\n",
       "    <tr>\n",
       "      <th>2</th>\n",
       "      <td>i thought this was a wonderful way to spend ti...</td>\n",
       "      <td>positive</td>\n",
       "    </tr>\n",
       "    <tr>\n",
       "      <th>3</th>\n",
       "      <td>basically there's a family where a little boy ...</td>\n",
       "      <td>negative</td>\n",
       "    </tr>\n",
       "    <tr>\n",
       "      <th>4</th>\n",
       "      <td>petter mattei's \"love in the time of money\" is...</td>\n",
       "      <td>positive</td>\n",
       "    </tr>\n",
       "  </tbody>\n",
       "</table>\n",
       "</div>"
      ],
      "text/plain": [
       "                                              review sentiment\n",
       "0  one of the other reviewers has mentioned that ...  positive\n",
       "1  a wonderful little production. <br /><br />the...  positive\n",
       "2  i thought this was a wonderful way to spend ti...  positive\n",
       "3  basically there's a family where a little boy ...  negative\n",
       "4  petter mattei's \"love in the time of money\" is...  positive"
      ]
     },
     "execution_count": 6,
     "metadata": {},
     "output_type": "execute_result"
    }
   ],
   "source": [
    "df.head()"
   ]
  },
  {
   "cell_type": "markdown",
   "id": "11f37c59",
   "metadata": {},
   "source": [
    "# Remove HTML Tag"
   ]
  },
  {
   "cell_type": "code",
   "execution_count": 8,
   "id": "b2e36456",
   "metadata": {},
   "outputs": [],
   "source": [
    "import re"
   ]
  },
  {
   "cell_type": "code",
   "execution_count": 9,
   "id": "8e840d15",
   "metadata": {},
   "outputs": [],
   "source": [
    "def remove_tags(text):\n",
    "    expression = re.compile('<.*?>')\n",
    "    return expression.sub(r'', text)"
   ]
  },
  {
   "cell_type": "code",
   "execution_count": 10,
   "id": "73cb17d5",
   "metadata": {},
   "outputs": [],
   "source": [
    "df['review'] = df['review'].apply(remove_tags)"
   ]
  },
  {
   "cell_type": "code",
   "execution_count": 12,
   "id": "a6b78923",
   "metadata": {},
   "outputs": [
    {
     "data": {
      "text/plain": [
       "'a wonderful little production. the filming technique is very unassuming- very old-time-bbc fashion and gives a comforting, and sometimes discomforting, sense of realism to the entire piece. the actors are extremely well chosen- michael sheen not only \"has got all the polari\" but he has all the voices down pat too! you can truly see the seamless editing guided by the references to williams\\' diary entries, not only is it well worth the watching but it is a terrificly written and performed piece. a masterful production about one of the great master\\'s of comedy and his life. the realism really comes home with the little things: the fantasy of the guard which, rather than use the traditional \\'dream\\' techniques remains solid then disappears. it plays on our knowledge and our senses, particularly with the scenes concerning orton and halliwell and the sets (particularly of their flat with halliwell\\'s murals decorating every surface) are terribly well done.'"
      ]
     },
     "execution_count": 12,
     "metadata": {},
     "output_type": "execute_result"
    }
   ],
   "source": [
    "df['review'][1]"
   ]
  },
  {
   "cell_type": "markdown",
   "id": "05684373",
   "metadata": {},
   "source": [
    "# Remove URLs"
   ]
  },
  {
   "cell_type": "code",
   "execution_count": 13,
   "id": "1e70f3d6",
   "metadata": {},
   "outputs": [],
   "source": [
    "def remove_urls(text):\n",
    "    exp = re.compile(r'https?://\\S+|www\\.\\S+')\n",
    "    return exp.sub(r'', text)"
   ]
  },
  {
   "cell_type": "code",
   "execution_count": 14,
   "id": "5e0b1e9d",
   "metadata": {},
   "outputs": [],
   "source": [
    "text1 = 'Check out new Chat GPT here https://chat.openai.com/'\n",
    "text2 = 'Check out facebook real http://www.facebook.com/reel/'\n",
    "text3 = 'Google search here www.google.com'"
   ]
  },
  {
   "cell_type": "code",
   "execution_count": 15,
   "id": "59d9ce8e",
   "metadata": {},
   "outputs": [
    {
     "data": {
      "text/plain": [
       "'Check out new Chat GPT here '"
      ]
     },
     "execution_count": 15,
     "metadata": {},
     "output_type": "execute_result"
    }
   ],
   "source": [
    "remove_urls(text1)"
   ]
  },
  {
   "cell_type": "code",
   "execution_count": 16,
   "id": "6c905455",
   "metadata": {},
   "outputs": [
    {
     "data": {
      "text/plain": [
       "'Check out facebook real '"
      ]
     },
     "execution_count": 16,
     "metadata": {},
     "output_type": "execute_result"
    }
   ],
   "source": [
    "remove_urls(text2)"
   ]
  },
  {
   "cell_type": "markdown",
   "id": "420c814f",
   "metadata": {},
   "source": [
    "# Remove punctuation"
   ]
  },
  {
   "cell_type": "code",
   "execution_count": 17,
   "id": "71a5b0f0",
   "metadata": {},
   "outputs": [],
   "source": [
    "import string"
   ]
  },
  {
   "cell_type": "code",
   "execution_count": 18,
   "id": "2ed58358",
   "metadata": {},
   "outputs": [
    {
     "data": {
      "text/plain": [
       "'!\"#$%&\\'()*+,-./:;<=>?@[\\\\]^_`{|}~'"
      ]
     },
     "execution_count": 18,
     "metadata": {},
     "output_type": "execute_result"
    }
   ],
   "source": [
    "string.punctuation"
   ]
  },
  {
   "cell_type": "code",
   "execution_count": 19,
   "id": "8551b25a",
   "metadata": {},
   "outputs": [],
   "source": [
    "char_word = string.punctuation\n",
    "def remove_punc(text):\n",
    "    return text.translate(str.maketrans('','', char_word))"
   ]
  },
  {
   "cell_type": "code",
   "execution_count": 20,
   "id": "4d5d57f6",
   "metadata": {},
   "outputs": [
    {
     "data": {
      "text/plain": [
       "'string With Punctuation'"
      ]
     },
     "execution_count": 20,
     "metadata": {},
     "output_type": "execute_result"
    }
   ],
   "source": [
    "text = 'string. With. Punctuation?'\n",
    "remove_punc(text)"
   ]
  },
  {
   "cell_type": "code",
   "execution_count": 25,
   "id": "a1dbb3fd",
   "metadata": {},
   "outputs": [
    {
     "data": {
      "text/plain": [
       "32"
      ]
     },
     "execution_count": 25,
     "metadata": {},
     "output_type": "execute_result"
    }
   ],
   "source": [
    "len(char_word)"
   ]
  },
  {
   "cell_type": "code",
   "execution_count": 24,
   "id": "c4072f2b",
   "metadata": {},
   "outputs": [
    {
     "name": "stdout",
     "output_type": "stream",
     "text": [
      "! \" # $ % & ' ( ) * + , - . / : ; < = > ? @ [ \\ ] ^ _ ` { | } ~ "
     ]
    }
   ],
   "source": [
    "for key in str.maketrans('','', char_word).keys():\n",
    "    print(chr(key), end=\" \")"
   ]
  },
  {
   "cell_type": "markdown",
   "id": "efd62983",
   "metadata": {},
   "source": [
    "# Chat word treatement"
   ]
  },
  {
   "cell_type": "code",
   "execution_count": 36,
   "id": "c5dc7280",
   "metadata": {},
   "outputs": [],
   "source": [
    "chat_word = {\n",
    "    'AFAIK': 'As Far As I Know',\n",
    "    'AFK': 'Away From Keyboard',\n",
    "    'ASAP': 'As Soon As Possible',\n",
    "    'ATK': 'At The Keyboard',\n",
    "    'ATM': 'At The Moment',\n",
    "    'A3': 'Anytime, Anywhere, Anyplace',\n",
    "    'BAK': 'Back At Keyboard',\n",
    "    'BBL': 'Be Back Later',\n",
    "    'BBS': 'Be Back Soon',\n",
    "    'BFN': 'Bye For Now',\n",
    "    'B4N': 'Bye For Now',\n",
    "    'BRB': 'Be Right Back',\n",
    "    'BRT': 'Be Right There',\n",
    "    'BTW': 'By The Way',\n",
    "    'B4': 'Before',\n",
    "    'CU': 'See You',\n",
    "    'CUL8R': 'See You Later',\n",
    "    'CYA': 'See You',\n",
    "    'FAQ': 'Frequently Asked Questions',\n",
    "    'FC': 'Fingers Crossed',\n",
    "    'FWIW': 'For What It\\'s Worth',\n",
    "    'FYI': 'For Your Information',\n",
    "    'GAL': 'Get A Life',\n",
    "    'GG': 'Good Game',\n",
    "    'GN': 'Good Night',\n",
    "    'GMTA': 'Great Minds Think Alike',\n",
    "    'GR8': 'Great!',\n",
    "    'G9': 'Genius',\n",
    "    'IC': 'I See',\n",
    "    'ICQ': 'I Seek you (also a chat program)',\n",
    "    'ILU': 'I Love You',\n",
    "    'IMHO': 'In My Honest/Humble Opinion',\n",
    "    'IMO': 'In My Opinion',\n",
    "    'IOW': 'In Other Words',\n",
    "    'IRL': 'In Real Life',\n",
    "    'KISS': 'Keep It Simple, Stupid',\n",
    "    'LDR': 'Long Distance Relationship',\n",
    "    'LMAO': 'Laugh My A.. Off',\n",
    "    'LOL': 'Laughing Out Loud',\n",
    "    'LTNS': 'Long Time No See',\n",
    "    'L8R': 'Later',\n",
    "    'MTE': 'My Thoughts Exactly',\n",
    "    'M8': 'Mate',\n",
    "    'NRN': 'No Reply Necessary',\n",
    "    'OIC': 'Oh I See',\n",
    "    'PITA': 'Pain In The A..',\n",
    "    'PRT': 'Party',\n",
    "    'PRW': 'Parents Are Watching',\n",
    "    'QPSA': 'Que Pasa?',\n",
    "    'ROFL': 'Rolling On The Floor Laughing',\n",
    "    'ROFLOL': 'Rolling On The Floor Laughing Out Loud',\n",
    "    'ROTFLMAO': 'Rolling On The Floor Laughing My A.. Off',\n",
    "    'SK8': 'Skate',\n",
    "    'STATS': 'Your sex and age',\n",
    "    'ASL': 'Age, Sex, Location',\n",
    "    'THX': 'Thank You',\n",
    "    'TTFN': 'Ta-Ta For Now!',\n",
    "    'TTYL': 'Talk To You Later',\n",
    "    'U': 'You',\n",
    "    'U2': 'You Too',\n",
    "    'U4E': 'Yours For Ever',\n",
    "    'WB': 'Welcome Back',\n",
    "    'WTF': 'What The F...',\n",
    "    'WTG': 'Way To Go!',\n",
    "    'WUF': 'Where Are You From?',\n",
    "    'W8': 'Wait...',\n",
    "    '7K': 'Sick:-D Laughter',\n",
    "    'TFW': 'That Feeling When',\n",
    "    'MFW': 'My Face When',\n",
    "    'MRW': 'My Reaction When',\n",
    "    'IFYP': 'I Feel Your Pain',\n",
    "    'LOL': 'Laughing Out Loud',\n",
    "    'TNTL': 'Trying Not To Laugh',\n",
    "    'JK': 'Just Kidding',\n",
    "    'IDC': 'I Don’t Care',\n",
    "    'ILY': 'I Love You',\n",
    "    'IMU': 'I Miss You',\n",
    "    'ADIH': 'Another Day In Hell',\n",
    "    'IDC': 'I Don’t Care',\n",
    "    'ZZZ': 'Sleeping, Bored, Tired',\n",
    "    'WYWH': 'Wish You Were Here',\n",
    "    'TIME': 'Tears In My Eyes',\n",
    "    'BAE': 'Before Anyone Else',\n",
    "    'FIMH': 'Forever In My Heart',\n",
    "    'BSAAW': 'Big Smile And A Wink',\n",
    "    'BWL': 'Bursting With Laughter',\n",
    "    'LMAO': 'Laughing My A** Off',\n",
    "    'BFF': 'Best Friends Forever',\n",
    "    'CSL': 'Can’t Stop Laughing'\n",
    "}\n"
   ]
  },
  {
   "cell_type": "code",
   "execution_count": 40,
   "id": "ef8f8128",
   "metadata": {},
   "outputs": [],
   "source": [
    "def chat_conversion(text):\n",
    "    new_text = []\n",
    "    for w in text.split():\n",
    "        if w.upper() in chat_word:\n",
    "            new_text.append(chat_word[w.upper()])\n",
    "        else:\n",
    "            new_text.append(w)\n",
    "    return \" \".join(new_text)"
   ]
  },
  {
   "cell_type": "code",
   "execution_count": 43,
   "id": "e0db328a",
   "metadata": {},
   "outputs": [
    {
     "data": {
      "text/plain": [
       "'Hey Rishabh Be Right Back'"
      ]
     },
     "execution_count": 43,
     "metadata": {},
     "output_type": "execute_result"
    }
   ],
   "source": [
    "text = \"Hey Rishabh brb\"\n",
    "chat_conversion(text)"
   ]
  },
  {
   "cell_type": "markdown",
   "id": "fe2060de",
   "metadata": {},
   "source": [
    "# Spelling Correction"
   ]
  },
  {
   "cell_type": "code",
   "execution_count": 44,
   "id": "2d2c1eb8",
   "metadata": {},
   "outputs": [
    {
     "name": "stdout",
     "output_type": "stream",
     "text": [
      "Collecting textblob\n",
      "  Downloading textblob-0.17.1-py2.py3-none-any.whl (636 kB)\n",
      "     ---------------------------------------- 0.0/636.8 kB ? eta -:--:--\n",
      "     --- ----------------------------------- 51.2/636.8 kB 2.7 MB/s eta 0:00:01\n",
      "     --- --------------------------------- 61.4/636.8 kB 550.5 kB/s eta 0:00:02\n",
      "     --- --------------------------------- 61.4/636.8 kB 550.5 kB/s eta 0:00:02\n",
      "     --- --------------------------------- 61.4/636.8 kB 550.5 kB/s eta 0:00:02\n",
      "     --- --------------------------------- 61.4/636.8 kB 550.5 kB/s eta 0:00:02\n",
      "     --- --------------------------------- 61.4/636.8 kB 550.5 kB/s eta 0:00:02\n",
      "     --- --------------------------------- 61.4/636.8 kB 550.5 kB/s eta 0:00:02\n",
      "     --- --------------------------------- 61.4/636.8 kB 550.5 kB/s eta 0:00:02\n",
      "     --- --------------------------------- 61.4/636.8 kB 550.5 kB/s eta 0:00:02\n",
      "     ---- -------------------------------- 71.7/636.8 kB 145.9 kB/s eta 0:00:04\n",
      "     ------ ----------------------------- 112.6/636.8 kB 218.8 kB/s eta 0:00:03\n",
      "     ------ ----------------------------- 122.9/636.8 kB 212.1 kB/s eta 0:00:03\n",
      "     -------- --------------------------- 143.4/636.8 kB 218.6 kB/s eta 0:00:03\n",
      "     -------- --------------------------- 143.4/636.8 kB 218.6 kB/s eta 0:00:03\n",
      "     -------- --------------------------- 143.4/636.8 kB 218.6 kB/s eta 0:00:03\n",
      "     -------- --------------------------- 143.4/636.8 kB 218.6 kB/s eta 0:00:03\n",
      "     -------- --------------------------- 143.4/636.8 kB 218.6 kB/s eta 0:00:03\n",
      "     -------- --------------------------- 143.4/636.8 kB 218.6 kB/s eta 0:00:03\n",
      "     -------- --------------------------- 143.4/636.8 kB 218.6 kB/s eta 0:00:03\n",
      "     -------- --------------------------- 143.4/636.8 kB 218.6 kB/s eta 0:00:03\n",
      "     ----------- ------------------------ 204.8/636.8 kB 204.2 kB/s eta 0:00:03\n",
      "     ------------- ---------------------- 235.5/636.8 kB 225.3 kB/s eta 0:00:02\n",
      "     ------------- ---------------------- 235.5/636.8 kB 225.3 kB/s eta 0:00:02\n",
      "     ------------- ---------------------- 235.5/636.8 kB 225.3 kB/s eta 0:00:02\n",
      "     ------------- ---------------------- 235.5/636.8 kB 225.3 kB/s eta 0:00:02\n",
      "     ------------- ---------------------- 235.5/636.8 kB 225.3 kB/s eta 0:00:02\n",
      "     ------------- ---------------------- 235.5/636.8 kB 225.3 kB/s eta 0:00:02\n",
      "     ------------- ---------------------- 235.5/636.8 kB 225.3 kB/s eta 0:00:02\n",
      "     -------------- --------------------- 256.0/636.8 kB 187.3 kB/s eta 0:00:03\n",
      "     -------------- --------------------- 256.0/636.8 kB 187.3 kB/s eta 0:00:03\n",
      "     -------------- --------------------- 256.0/636.8 kB 187.3 kB/s eta 0:00:03\n",
      "     -------------- --------------------- 256.0/636.8 kB 187.3 kB/s eta 0:00:03\n",
      "     -------------- --------------------- 256.0/636.8 kB 187.3 kB/s eta 0:00:03\n",
      "     -------------- --------------------- 256.0/636.8 kB 187.3 kB/s eta 0:00:03\n",
      "     -------------- --------------------- 256.0/636.8 kB 187.3 kB/s eta 0:00:03\n",
      "     -------------- --------------------- 256.0/636.8 kB 187.3 kB/s eta 0:00:03\n",
      "     ----------------- ------------------ 317.4/636.8 kB 183.8 kB/s eta 0:00:02\n",
      "     ----------------- ------------------ 317.4/636.8 kB 183.8 kB/s eta 0:00:02\n",
      "     ----------------- ------------------ 317.4/636.8 kB 183.8 kB/s eta 0:00:02\n",
      "     ----------------- ------------------ 317.4/636.8 kB 183.8 kB/s eta 0:00:02\n",
      "     ----------------- ------------------ 317.4/636.8 kB 183.8 kB/s eta 0:00:02\n",
      "     ----------------- ------------------ 317.4/636.8 kB 183.8 kB/s eta 0:00:02\n",
      "     ----------------- ------------------ 317.4/636.8 kB 183.8 kB/s eta 0:00:02\n",
      "     ------------------- ---------------- 337.9/636.8 kB 166.5 kB/s eta 0:00:02\n",
      "     ------------------- ---------------- 337.9/636.8 kB 166.5 kB/s eta 0:00:02\n",
      "     ------------------- ---------------- 337.9/636.8 kB 166.5 kB/s eta 0:00:02\n",
      "     ------------------- ---------------- 337.9/636.8 kB 166.5 kB/s eta 0:00:02\n",
      "     ------------------- ---------------- 337.9/636.8 kB 166.5 kB/s eta 0:00:02\n",
      "     ------------------- ---------------- 337.9/636.8 kB 166.5 kB/s eta 0:00:02\n",
      "     -------------------- --------------- 358.4/636.8 kB 153.7 kB/s eta 0:00:02\n",
      "     -------------------- --------------- 358.4/636.8 kB 153.7 kB/s eta 0:00:02\n",
      "     -------------------- --------------- 358.4/636.8 kB 153.7 kB/s eta 0:00:02\n",
      "     -------------------- --------------- 368.6/636.8 kB 148.0 kB/s eta 0:00:02\n",
      "     -------------------- --------------- 368.6/636.8 kB 148.0 kB/s eta 0:00:02\n",
      "     -------------------- --------------- 368.6/636.8 kB 148.0 kB/s eta 0:00:02\n",
      "     -------------------- --------------- 368.6/636.8 kB 148.0 kB/s eta 0:00:02\n",
      "     -------------------- --------------- 368.6/636.8 kB 148.0 kB/s eta 0:00:02\n",
      "     --------------------- -------------- 378.9/636.8 kB 137.2 kB/s eta 0:00:02\n",
      "     ---------------------- ------------- 399.4/636.8 kB 144.8 kB/s eta 0:00:02\n",
      "     ---------------------- ------------- 399.4/636.8 kB 144.8 kB/s eta 0:00:02\n",
      "     ---------------------- ------------- 399.4/636.8 kB 144.8 kB/s eta 0:00:02\n",
      "     ---------------------- ------------- 399.4/636.8 kB 144.8 kB/s eta 0:00:02\n",
      "     ---------------------- ------------- 399.4/636.8 kB 144.8 kB/s eta 0:00:02\n",
      "     ---------------------- ------------- 399.4/636.8 kB 144.8 kB/s eta 0:00:02\n",
      "     ---------------------- ------------- 399.4/636.8 kB 144.8 kB/s eta 0:00:02\n",
      "     ---------------------- ------------- 399.4/636.8 kB 144.8 kB/s eta 0:00:02\n",
      "     ----------------------- ------------ 419.8/636.8 kB 133.1 kB/s eta 0:00:02\n",
      "     ------------------------ ----------- 440.3/636.8 kB 137.0 kB/s eta 0:00:02\n",
      "     ------------------------ ----------- 440.3/636.8 kB 137.0 kB/s eta 0:00:02\n",
      "     ------------------------ ----------- 440.3/636.8 kB 137.0 kB/s eta 0:00:02\n",
      "     ------------------------ ----------- 440.3/636.8 kB 137.0 kB/s eta 0:00:02\n",
      "     ------------------------ ----------- 440.3/636.8 kB 137.0 kB/s eta 0:00:02\n",
      "     ------------------------ ----------- 440.3/636.8 kB 137.0 kB/s eta 0:00:02\n",
      "     ------------------------ ----------- 440.3/636.8 kB 137.0 kB/s eta 0:00:02\n",
      "     ------------------------ ----------- 440.3/636.8 kB 137.0 kB/s eta 0:00:02\n",
      "     ------------------------- ---------- 450.6/636.8 kB 125.3 kB/s eta 0:00:02\n",
      "     ------------------------- ---------- 450.6/636.8 kB 125.3 kB/s eta 0:00:02\n",
      "     ------------------------- ---------- 450.6/636.8 kB 125.3 kB/s eta 0:00:02\n",
      "     ------------------------- ---------- 450.6/636.8 kB 125.3 kB/s eta 0:00:02\n",
      "     ------------------------- ---------- 450.6/636.8 kB 125.3 kB/s eta 0:00:02\n",
      "     ------------------------- ---------- 450.6/636.8 kB 125.3 kB/s eta 0:00:02\n",
      "     ------------------------- ---------- 450.6/636.8 kB 125.3 kB/s eta 0:00:02\n",
      "     -------------------------- --------- 471.0/636.8 kB 121.4 kB/s eta 0:00:02\n",
      "     -------------------------- --------- 471.0/636.8 kB 121.4 kB/s eta 0:00:02\n",
      "     -------------------------- --------- 471.0/636.8 kB 121.4 kB/s eta 0:00:02\n",
      "     -------------------------- --------- 471.0/636.8 kB 121.4 kB/s eta 0:00:02\n",
      "     -------------------------- --------- 471.0/636.8 kB 121.4 kB/s eta 0:00:02\n",
      "     -------------------------- --------- 471.0/636.8 kB 121.4 kB/s eta 0:00:02\n",
      "     --------------------------- -------- 481.3/636.8 kB 114.2 kB/s eta 0:00:02\n",
      "     --------------------------- -------- 481.3/636.8 kB 114.2 kB/s eta 0:00:02\n",
      "     --------------------------- -------- 481.3/636.8 kB 114.2 kB/s eta 0:00:02\n",
      "     --------------------------- -------- 481.3/636.8 kB 114.2 kB/s eta 0:00:02\n",
      "     --------------------------- -------- 481.3/636.8 kB 114.2 kB/s eta 0:00:02\n",
      "     --------------------------- -------- 481.3/636.8 kB 114.2 kB/s eta 0:00:02\n",
      "     --------------------------- -------- 481.3/636.8 kB 114.2 kB/s eta 0:00:02\n",
      "     --------------------------- -------- 481.3/636.8 kB 114.2 kB/s eta 0:00:02\n",
      "     --------------------------- -------- 481.3/636.8 kB 114.2 kB/s eta 0:00:02\n",
      "     --------------------------- -------- 481.3/636.8 kB 114.2 kB/s eta 0:00:02\n",
      "     --------------------------- -------- 481.3/636.8 kB 114.2 kB/s eta 0:00:02\n",
      "     --------------------------- -------- 481.3/636.8 kB 114.2 kB/s eta 0:00:02\n",
      "     --------------------------- -------- 481.3/636.8 kB 114.2 kB/s eta 0:00:02\n",
      "     --------------------------- -------- 481.3/636.8 kB 114.2 kB/s eta 0:00:02\n",
      "     --------------------------- -------- 481.3/636.8 kB 114.2 kB/s eta 0:00:02\n",
      "     --------------------------- -------- 481.3/636.8 kB 114.2 kB/s eta 0:00:02\n",
      "     --------------------------- -------- 481.3/636.8 kB 114.2 kB/s eta 0:00:02\n",
      "     --------------------------- -------- 481.3/636.8 kB 114.2 kB/s eta 0:00:02\n",
      "     ----------------------------- ------- 501.8/636.8 kB 99.9 kB/s eta 0:00:02\n",
      "     ----------------------------- ------- 501.8/636.8 kB 99.9 kB/s eta 0:00:02\n",
      "     ----------------------------- ------- 501.8/636.8 kB 99.9 kB/s eta 0:00:02\n",
      "     ----------------------------- ------- 501.8/636.8 kB 99.9 kB/s eta 0:00:02\n",
      "     ----------------------------- ------- 501.8/636.8 kB 99.9 kB/s eta 0:00:02\n",
      "     ----------------------------- ------- 501.8/636.8 kB 99.9 kB/s eta 0:00:02\n",
      "     ------------------------------ ------ 522.2/636.8 kB 97.5 kB/s eta 0:00:02\n",
      "     ------------------------------ ------ 522.2/636.8 kB 97.5 kB/s eta 0:00:02\n",
      "     ------------------------------ ------ 522.2/636.8 kB 97.5 kB/s eta 0:00:02\n",
      "     ------------------------------ ------ 522.2/636.8 kB 97.5 kB/s eta 0:00:02\n",
      "     ------------------------------ ------ 532.5/636.8 kB 96.6 kB/s eta 0:00:02\n",
      "     -------------------------------- ---- 553.0/636.8 kB 99.3 kB/s eta 0:00:01\n",
      "     ------------------------------- ---- 563.2/636.8 kB 100.3 kB/s eta 0:00:01\n",
      "     --------------------------------- -- 593.9/636.8 kB 105.2 kB/s eta 0:00:01\n",
      "     --------------------------------- -- 593.9/636.8 kB 105.2 kB/s eta 0:00:01\n",
      "     --------------------------------- -- 593.9/636.8 kB 105.2 kB/s eta 0:00:01\n",
      "     --------------------------------- -- 593.9/636.8 kB 105.2 kB/s eta 0:00:01\n",
      "     --------------------------------- -- 593.9/636.8 kB 105.2 kB/s eta 0:00:01\n",
      "     --------------------------------- -- 593.9/636.8 kB 105.2 kB/s eta 0:00:01\n",
      "     --------------------------------- -- 593.9/636.8 kB 105.2 kB/s eta 0:00:01\n",
      "     --------------------------------- -- 593.9/636.8 kB 105.2 kB/s eta 0:00:01\n",
      "     ---------------------------------- - 604.2/636.8 kB 100.8 kB/s eta 0:00:01\n",
      "     ---------------------------------- - 604.2/636.8 kB 100.8 kB/s eta 0:00:01\n",
      "     -----------------------------------  624.6/636.8 kB 102.1 kB/s eta 0:00:01\n",
      "     ------------------------------------ 636.8/636.8 kB 103.6 kB/s eta 0:00:00\n",
      "Requirement already satisfied: nltk>=3.1 in c:\\users\\as233\\anaconda3\\lib\\site-packages (from textblob) (3.8.1)\n",
      "Requirement already satisfied: click in c:\\users\\as233\\anaconda3\\lib\\site-packages (from nltk>=3.1->textblob) (8.0.4)\n",
      "Requirement already satisfied: joblib in c:\\users\\as233\\anaconda3\\lib\\site-packages (from nltk>=3.1->textblob) (1.2.0)\n",
      "Requirement already satisfied: regex>=2021.8.3 in c:\\users\\as233\\anaconda3\\lib\\site-packages (from nltk>=3.1->textblob) (2022.7.9)\n",
      "Requirement already satisfied: tqdm in c:\\users\\as233\\anaconda3\\lib\\site-packages (from nltk>=3.1->textblob) (4.65.0)\n",
      "Requirement already satisfied: colorama in c:\\users\\as233\\anaconda3\\lib\\site-packages (from click->nltk>=3.1->textblob) (0.4.6)\n",
      "Installing collected packages: textblob\n",
      "Successfully installed textblob-0.17.1\n"
     ]
    }
   ],
   "source": [
    "!pip install -U textblob"
   ]
  },
  {
   "cell_type": "code",
   "execution_count": 45,
   "id": "4fdd525b",
   "metadata": {},
   "outputs": [
    {
     "name": "stdout",
     "output_type": "stream",
     "text": [
      "Finished.\n"
     ]
    },
    {
     "name": "stderr",
     "output_type": "stream",
     "text": [
      "[nltk_data] Downloading package brown to\n",
      "[nltk_data]     C:\\Users\\as233\\AppData\\Roaming\\nltk_data...\n",
      "[nltk_data]   Unzipping corpora\\brown.zip.\n",
      "[nltk_data] Downloading package punkt to\n",
      "[nltk_data]     C:\\Users\\as233\\AppData\\Roaming\\nltk_data...\n",
      "[nltk_data]   Unzipping tokenizers\\punkt.zip.\n",
      "[nltk_data] Downloading package wordnet to\n",
      "[nltk_data]     C:\\Users\\as233\\AppData\\Roaming\\nltk_data...\n",
      "[nltk_data] Downloading package averaged_perceptron_tagger to\n",
      "[nltk_data]     C:\\Users\\as233\\AppData\\Roaming\\nltk_data...\n",
      "[nltk_data]   Unzipping taggers\\averaged_perceptron_tagger.zip.\n",
      "[nltk_data] Downloading package conll2000 to\n",
      "[nltk_data]     C:\\Users\\as233\\AppData\\Roaming\\nltk_data...\n",
      "[nltk_data]   Unzipping corpora\\conll2000.zip.\n",
      "[nltk_data] Downloading package movie_reviews to\n",
      "[nltk_data]     C:\\Users\\as233\\AppData\\Roaming\\nltk_data...\n",
      "[nltk_data]   Unzipping corpora\\movie_reviews.zip.\n"
     ]
    }
   ],
   "source": [
    "!python -m textblob.download_corpora"
   ]
  },
  {
   "cell_type": "code",
   "execution_count": 46,
   "id": "102bce08",
   "metadata": {},
   "outputs": [],
   "source": [
    "from textblob import TextBlob"
   ]
  },
  {
   "cell_type": "code",
   "execution_count": 48,
   "id": "716d7a7c",
   "metadata": {},
   "outputs": [
    {
     "data": {
      "text/plain": [
       "'certain conditions during several generations are modified in the same manner.'"
      ]
     },
     "execution_count": 48,
     "metadata": {},
     "output_type": "execute_result"
    }
   ],
   "source": [
    "incorrect_text = \"ceertain conditionas duriing seveal ggenerations aree moodified in the saame maner.\"\n",
    "blb = TextBlob(incorrect_text)\n",
    "blb.correct().string"
   ]
  },
  {
   "cell_type": "code",
   "execution_count": 56,
   "id": "cbbb5d01",
   "metadata": {},
   "outputs": [
    {
     "name": "stdout",
     "output_type": "stream",
     "text": [
      "Requirement already satisfied: nltk in c:\\users\\as233\\anaconda3\\lib\\site-packages (3.8.1)\n",
      "Requirement already satisfied: click in c:\\users\\as233\\anaconda3\\lib\\site-packages (from nltk) (8.0.4)\n",
      "Requirement already satisfied: joblib in c:\\users\\as233\\anaconda3\\lib\\site-packages (from nltk) (1.2.0)\n",
      "Requirement already satisfied: regex>=2021.8.3 in c:\\users\\as233\\anaconda3\\lib\\site-packages (from nltk) (2022.7.9)\n",
      "Requirement already satisfied: tqdm in c:\\users\\as233\\anaconda3\\lib\\site-packages (from nltk) (4.65.0)\n",
      "Requirement already satisfied: colorama in c:\\users\\as233\\anaconda3\\lib\\site-packages (from click->nltk) (0.4.6)\n"
     ]
    }
   ],
   "source": [
    "!pip install nltk"
   ]
  },
  {
   "cell_type": "code",
   "execution_count": 57,
   "id": "1706d089",
   "metadata": {},
   "outputs": [],
   "source": [
    "from nltk.corpus import stopwords"
   ]
  },
  {
   "cell_type": "code",
   "execution_count": null,
   "id": "aa68c936",
   "metadata": {},
   "outputs": [],
   "source": []
  }
 ],
 "metadata": {
  "kernelspec": {
   "display_name": "Python 3 (ipykernel)",
   "language": "python",
   "name": "python3"
  },
  "language_info": {
   "codemirror_mode": {
    "name": "ipython",
    "version": 3
   },
   "file_extension": ".py",
   "mimetype": "text/x-python",
   "name": "python",
   "nbconvert_exporter": "python",
   "pygments_lexer": "ipython3",
   "version": "3.11.5"
  }
 },
 "nbformat": 4,
 "nbformat_minor": 5
}
