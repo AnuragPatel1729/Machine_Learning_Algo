{
 "cells": [
  {
   "cell_type": "markdown",
   "id": "8db106fa",
   "metadata": {},
   "source": [
    "## 1. How are coefficients affected?"
   ]
  },
  {
   "cell_type": "code",
   "execution_count": 1,
   "id": "19e28c6c",
   "metadata": {},
   "outputs": [],
   "source": [
    "from sklearn.datasets import load_diabetes\n",
    "\n",
    "import numpy as np\n",
    "import pandas as pd\n",
    "\n",
    "import matplotlib.pyplot as plt"
   ]
  },
  {
   "cell_type": "code",
   "execution_count": 2,
   "id": "e63e060b",
   "metadata": {},
   "outputs": [],
   "source": [
    "data = load_diabetes()"
   ]
  },
  {
   "cell_type": "code",
   "execution_count": 3,
   "id": "b0dbcf9f",
   "metadata": {},
   "outputs": [],
   "source": [
    "df = pd.DataFrame(data.data,columns=data.feature_names)\n",
    "df['TARGET'] = data.target"
   ]
  },
  {
   "cell_type": "code",
   "execution_count": 4,
   "id": "a2541d45",
   "metadata": {},
   "outputs": [
    {
     "data": {
      "text/html": [
       "<div>\n",
       "<style scoped>\n",
       "    .dataframe tbody tr th:only-of-type {\n",
       "        vertical-align: middle;\n",
       "    }\n",
       "\n",
       "    .dataframe tbody tr th {\n",
       "        vertical-align: top;\n",
       "    }\n",
       "\n",
       "    .dataframe thead th {\n",
       "        text-align: right;\n",
       "    }\n",
       "</style>\n",
       "<table border=\"1\" class=\"dataframe\">\n",
       "  <thead>\n",
       "    <tr style=\"text-align: right;\">\n",
       "      <th></th>\n",
       "      <th>age</th>\n",
       "      <th>sex</th>\n",
       "      <th>bmi</th>\n",
       "      <th>bp</th>\n",
       "      <th>s1</th>\n",
       "      <th>s2</th>\n",
       "      <th>s3</th>\n",
       "      <th>s4</th>\n",
       "      <th>s5</th>\n",
       "      <th>s6</th>\n",
       "      <th>TARGET</th>\n",
       "    </tr>\n",
       "  </thead>\n",
       "  <tbody>\n",
       "    <tr>\n",
       "      <th>0</th>\n",
       "      <td>0.038076</td>\n",
       "      <td>0.050680</td>\n",
       "      <td>0.061696</td>\n",
       "      <td>0.021872</td>\n",
       "      <td>-0.044223</td>\n",
       "      <td>-0.034821</td>\n",
       "      <td>-0.043401</td>\n",
       "      <td>-0.002592</td>\n",
       "      <td>0.019908</td>\n",
       "      <td>-0.017646</td>\n",
       "      <td>151.0</td>\n",
       "    </tr>\n",
       "    <tr>\n",
       "      <th>1</th>\n",
       "      <td>-0.001882</td>\n",
       "      <td>-0.044642</td>\n",
       "      <td>-0.051474</td>\n",
       "      <td>-0.026328</td>\n",
       "      <td>-0.008449</td>\n",
       "      <td>-0.019163</td>\n",
       "      <td>0.074412</td>\n",
       "      <td>-0.039493</td>\n",
       "      <td>-0.068330</td>\n",
       "      <td>-0.092204</td>\n",
       "      <td>75.0</td>\n",
       "    </tr>\n",
       "    <tr>\n",
       "      <th>2</th>\n",
       "      <td>0.085299</td>\n",
       "      <td>0.050680</td>\n",
       "      <td>0.044451</td>\n",
       "      <td>-0.005671</td>\n",
       "      <td>-0.045599</td>\n",
       "      <td>-0.034194</td>\n",
       "      <td>-0.032356</td>\n",
       "      <td>-0.002592</td>\n",
       "      <td>0.002864</td>\n",
       "      <td>-0.025930</td>\n",
       "      <td>141.0</td>\n",
       "    </tr>\n",
       "    <tr>\n",
       "      <th>3</th>\n",
       "      <td>-0.089063</td>\n",
       "      <td>-0.044642</td>\n",
       "      <td>-0.011595</td>\n",
       "      <td>-0.036656</td>\n",
       "      <td>0.012191</td>\n",
       "      <td>0.024991</td>\n",
       "      <td>-0.036038</td>\n",
       "      <td>0.034309</td>\n",
       "      <td>0.022692</td>\n",
       "      <td>-0.009362</td>\n",
       "      <td>206.0</td>\n",
       "    </tr>\n",
       "    <tr>\n",
       "      <th>4</th>\n",
       "      <td>0.005383</td>\n",
       "      <td>-0.044642</td>\n",
       "      <td>-0.036385</td>\n",
       "      <td>0.021872</td>\n",
       "      <td>0.003935</td>\n",
       "      <td>0.015596</td>\n",
       "      <td>0.008142</td>\n",
       "      <td>-0.002592</td>\n",
       "      <td>-0.031991</td>\n",
       "      <td>-0.046641</td>\n",
       "      <td>135.0</td>\n",
       "    </tr>\n",
       "  </tbody>\n",
       "</table>\n",
       "</div>"
      ],
      "text/plain": [
       "        age       sex       bmi        bp        s1        s2        s3  \\\n",
       "0  0.038076  0.050680  0.061696  0.021872 -0.044223 -0.034821 -0.043401   \n",
       "1 -0.001882 -0.044642 -0.051474 -0.026328 -0.008449 -0.019163  0.074412   \n",
       "2  0.085299  0.050680  0.044451 -0.005671 -0.045599 -0.034194 -0.032356   \n",
       "3 -0.089063 -0.044642 -0.011595 -0.036656  0.012191  0.024991 -0.036038   \n",
       "4  0.005383 -0.044642 -0.036385  0.021872  0.003935  0.015596  0.008142   \n",
       "\n",
       "         s4        s5        s6  TARGET  \n",
       "0 -0.002592  0.019908 -0.017646   151.0  \n",
       "1 -0.039493 -0.068330 -0.092204    75.0  \n",
       "2 -0.002592  0.002864 -0.025930   141.0  \n",
       "3  0.034309  0.022692 -0.009362   206.0  \n",
       "4 -0.002592 -0.031991 -0.046641   135.0  "
      ]
     },
     "execution_count": 4,
     "metadata": {},
     "output_type": "execute_result"
    }
   ],
   "source": [
    "df.head()"
   ]
  },
  {
   "cell_type": "code",
   "execution_count": 5,
   "id": "70034124",
   "metadata": {},
   "outputs": [
    {
     "data": {
      "text/plain": [
       "(442, 11)"
      ]
     },
     "execution_count": 5,
     "metadata": {},
     "output_type": "execute_result"
    }
   ],
   "source": [
    "df.shape"
   ]
  },
  {
   "cell_type": "code",
   "execution_count": 6,
   "id": "9b154bd5",
   "metadata": {},
   "outputs": [],
   "source": [
    "from sklearn.model_selection import train_test_split\n",
    "X_train,X_test,y_train,y_test = train_test_split(data.data,data.target,test_size=0.2,random_state=2)"
   ]
  },
  {
   "cell_type": "code",
   "execution_count": 7,
   "id": "d890576e",
   "metadata": {},
   "outputs": [],
   "source": [
    "from sklearn.linear_model import Ridge\n",
    "from sklearn.metrics import r2_score"
   ]
  },
  {
   "cell_type": "code",
   "execution_count": 8,
   "id": "e636419a",
   "metadata": {},
   "outputs": [],
   "source": [
    "coefs = []\n",
    "r2_scores = []\n",
    "\n",
    "for i in [0,10,100,1000]:\n",
    "    reg = Ridge(alpha=i)\n",
    "    reg.fit(X_train,y_train)\n",
    "    \n",
    "    coefs.append(reg.coef_.tolist())\n",
    "    y_pred = reg.predict(X_test)\n",
    "    r2_scores.append(r2_score(y_test,y_pred))\n",
    "    "
   ]
  },
  {
   "cell_type": "code",
   "execution_count": 11,
   "id": "f67f80d3",
   "metadata": {},
   "outputs": [
    {
     "name": "stdout",
     "output_type": "stream",
     "text": [
      "[[-9.16088483246257, -205.46225987708993, 516.6846238313885, 340.6273410788917, -895.5436086743589, 561.2145330558977, 153.88478595250436, 126.73431596154738, 861.1213995461836, 52.41982835857518], [21.17400371774998, 1.6597961347385322, 63.6597719017997, 48.493240031697546, 18.421491990472816, 12.875448426495627, -38.91543505723751, 38.84246372206304, 61.61240510619145, 35.505355265613154], [2.8589794382553495, 0.6294520371235343, 7.5406044960945104, 5.849996643873588, 2.710878515266963, 2.142134389296116, -4.834046968577792, 5.108223239548697, 7.4484662433551705, 4.576128672131118], [0.29572556030095387, 0.06929028636932691, 0.769003806199464, 0.5978292887031436, 0.28289951335334357, 0.22593550596063294, -0.4956069088303587, 0.5270313419211984, 0.7614974792951518, 0.4710290658232608]]\n"
     ]
    }
   ],
   "source": [
    "print(coefs)"
   ]
  },
  {
   "cell_type": "code",
   "execution_count": 9,
   "id": "9930209e",
   "metadata": {},
   "outputs": [
    {
     "data": {
      "image/png": "[encoded data removed]",
      "text/plain": [
       "<Figure size 1008x648 with 4 Axes>"
      ]
     },
     "metadata": {
      "needs_background": "light"
     },
     "output_type": "display_data"
    }
   ],
   "source": [
    "plt.figure(figsize=(14,9))\n",
    "plt.subplot(221)\n",
    "plt.bar(data.feature_names,coefs[0])\n",
    "plt.title('Alpha = 0 ,r2_score = {}'.format(round(r2_scores[0],2)))\n",
    "\n",
    "plt.subplot(222)\n",
    "plt.bar(data.feature_names,coefs[1])\n",
    "plt.title('Alpha = 10 ,r2_score = {}'.format(round(r2_scores[1],2)))\n",
    "\n",
    "plt.subplot(223)\n",
    "plt.bar(data.feature_names,coefs[2])\n",
    "plt.title('Alpha = 100 ,r2_score = {}'.format(round(r2_scores[2],2)))\n",
    "\n",
    "plt.subplot(224)\n",
    "plt.bar(data.feature_names,coefs[3])\n",
    "plt.title('Alpha = 1000 ,r2_score = {}'.format(round(r2_scores[3],2)))\n",
    "\n",
    "plt.show()"
   ]
  },
  {
   "cell_type": "markdown",
   "id": "742cb2cd",
   "metadata": {},
   "source": [
    "## 2. Higher Coefficients are affected more"
   ]
  },
  {
   "cell_type": "code",
   "execution_count": 12,
   "id": "305f471c",
   "metadata": {},
   "outputs": [],
   "source": [
    "alphas = [0,0.0001,0.001,0.01,0.1,1,10,100,1000,10000]\n",
    "\n",
    "coefs = []\n",
    "\n",
    "for i in alphas:\n",
    "    reg = Ridge(alpha=i)\n",
    "    reg.fit(X_train,y_train)\n",
    "    \n",
    "    coefs.append(reg.coef_.tolist())"
   ]
  },
  {
   "cell_type": "code",
   "execution_count": 13,
   "id": "e1764f78",
   "metadata": {},
   "outputs": [],
   "source": [
    "input_array = np.array(coefs)"
   ]
  },
  {
   "cell_type": "code",
   "execution_count": 14,
   "id": "b5b0d9f3",
   "metadata": {},
   "outputs": [
    {
     "data": {
      "text/html": [
       "<div>\n",
       "<style scoped>\n",
       "    .dataframe tbody tr th:only-of-type {\n",
       "        vertical-align: middle;\n",
       "    }\n",
       "\n",
       "    .dataframe tbody tr th {\n",
       "        vertical-align: top;\n",
       "    }\n",
       "\n",
       "    .dataframe thead th {\n",
       "        text-align: right;\n",
       "    }\n",
       "</style>\n",
       "<table border=\"1\" class=\"dataframe\">\n",
       "  <thead>\n",
       "    <tr style=\"text-align: right;\">\n",
       "      <th></th>\n",
       "      <th>age</th>\n",
       "      <th>sex</th>\n",
       "      <th>bmi</th>\n",
       "      <th>bp</th>\n",
       "      <th>s1</th>\n",
       "      <th>s2</th>\n",
       "      <th>s3</th>\n",
       "      <th>s4</th>\n",
       "      <th>s5</th>\n",
       "      <th>s6</th>\n",
       "    </tr>\n",
       "    <tr>\n",
       "      <th>alpha</th>\n",
       "      <th></th>\n",
       "      <th></th>\n",
       "      <th></th>\n",
       "      <th></th>\n",
       "      <th></th>\n",
       "      <th></th>\n",
       "      <th></th>\n",
       "      <th></th>\n",
       "      <th></th>\n",
       "      <th></th>\n",
       "    </tr>\n",
       "  </thead>\n",
       "  <tbody>\n",
       "    <tr>\n",
       "      <th>0.0000</th>\n",
       "      <td>-9.160885</td>\n",
       "      <td>-205.462260</td>\n",
       "      <td>516.684624</td>\n",
       "      <td>340.627341</td>\n",
       "      <td>-895.543609</td>\n",
       "      <td>561.214533</td>\n",
       "      <td>153.884786</td>\n",
       "      <td>126.734316</td>\n",
       "      <td>861.121400</td>\n",
       "      <td>52.419828</td>\n",
       "    </tr>\n",
       "    <tr>\n",
       "      <th>0.0001</th>\n",
       "      <td>-9.118336</td>\n",
       "      <td>-205.337133</td>\n",
       "      <td>516.880570</td>\n",
       "      <td>340.556792</td>\n",
       "      <td>-883.415291</td>\n",
       "      <td>551.553259</td>\n",
       "      <td>148.578680</td>\n",
       "      <td>125.355917</td>\n",
       "      <td>856.480254</td>\n",
       "      <td>52.467627</td>\n",
       "    </tr>\n",
       "    <tr>\n",
       "      <th>0.0010</th>\n",
       "      <td>-8.763583</td>\n",
       "      <td>-204.321125</td>\n",
       "      <td>518.371729</td>\n",
       "      <td>339.975385</td>\n",
       "      <td>-787.690766</td>\n",
       "      <td>475.274718</td>\n",
       "      <td>106.786540</td>\n",
       "      <td>114.632063</td>\n",
       "      <td>819.739542</td>\n",
       "      <td>52.872100</td>\n",
       "    </tr>\n",
       "    <tr>\n",
       "      <th>0.0100</th>\n",
       "      <td>-6.401088</td>\n",
       "      <td>-198.669767</td>\n",
       "      <td>522.048548</td>\n",
       "      <td>336.348363</td>\n",
       "      <td>-383.709187</td>\n",
       "      <td>152.663678</td>\n",
       "      <td>-66.060583</td>\n",
       "      <td>75.611090</td>\n",
       "      <td>659.869402</td>\n",
       "      <td>55.828128</td>\n",
       "    </tr>\n",
       "    <tr>\n",
       "      <th>0.1000</th>\n",
       "      <td>6.642753</td>\n",
       "      <td>-172.242166</td>\n",
       "      <td>485.523872</td>\n",
       "      <td>314.682122</td>\n",
       "      <td>-72.939323</td>\n",
       "      <td>-80.590053</td>\n",
       "      <td>-174.466515</td>\n",
       "      <td>83.616653</td>\n",
       "      <td>484.363285</td>\n",
       "      <td>73.584154</td>\n",
       "    </tr>\n",
       "    <tr>\n",
       "      <th>1.0000</th>\n",
       "      <td>42.242217</td>\n",
       "      <td>-57.305508</td>\n",
       "      <td>282.170831</td>\n",
       "      <td>198.061386</td>\n",
       "      <td>14.363544</td>\n",
       "      <td>-22.551274</td>\n",
       "      <td>-136.930053</td>\n",
       "      <td>102.023193</td>\n",
       "      <td>260.104308</td>\n",
       "      <td>98.552274</td>\n",
       "    </tr>\n",
       "    <tr>\n",
       "      <th>10.0000</th>\n",
       "      <td>21.174004</td>\n",
       "      <td>1.659796</td>\n",
       "      <td>63.659772</td>\n",
       "      <td>48.493240</td>\n",
       "      <td>18.421492</td>\n",
       "      <td>12.875448</td>\n",
       "      <td>-38.915435</td>\n",
       "      <td>38.842464</td>\n",
       "      <td>61.612405</td>\n",
       "      <td>35.505355</td>\n",
       "    </tr>\n",
       "    <tr>\n",
       "      <th>100.0000</th>\n",
       "      <td>2.858979</td>\n",
       "      <td>0.629452</td>\n",
       "      <td>7.540604</td>\n",
       "      <td>5.849997</td>\n",
       "      <td>2.710879</td>\n",
       "      <td>2.142134</td>\n",
       "      <td>-4.834047</td>\n",
       "      <td>5.108223</td>\n",
       "      <td>7.448466</td>\n",
       "      <td>4.576129</td>\n",
       "    </tr>\n",
       "    <tr>\n",
       "      <th>1000.0000</th>\n",
       "      <td>0.295726</td>\n",
       "      <td>0.069290</td>\n",
       "      <td>0.769004</td>\n",
       "      <td>0.597829</td>\n",
       "      <td>0.282900</td>\n",
       "      <td>0.225936</td>\n",
       "      <td>-0.495607</td>\n",
       "      <td>0.527031</td>\n",
       "      <td>0.761497</td>\n",
       "      <td>0.471029</td>\n",
       "    </tr>\n",
       "    <tr>\n",
       "      <th>10000.0000</th>\n",
       "      <td>0.029674</td>\n",
       "      <td>0.006995</td>\n",
       "      <td>0.077054</td>\n",
       "      <td>0.059915</td>\n",
       "      <td>0.028412</td>\n",
       "      <td>0.022715</td>\n",
       "      <td>-0.049686</td>\n",
       "      <td>0.052870</td>\n",
       "      <td>0.076321</td>\n",
       "      <td>0.047241</td>\n",
       "    </tr>\n",
       "  </tbody>\n",
       "</table>\n",
       "</div>"
      ],
      "text/plain": [
       "                  age         sex         bmi          bp          s1  \\\n",
       "alpha                                                                   \n",
       "0.0000      -9.160885 -205.462260  516.684624  340.627341 -895.543609   \n",
       "0.0001      -9.118336 -205.337133  516.880570  340.556792 -883.415291   \n",
       "0.0010      -8.763583 -204.321125  518.371729  339.975385 -787.690766   \n",
       "0.0100      -6.401088 -198.669767  522.048548  336.348363 -383.709187   \n",
       "0.1000       6.642753 -172.242166  485.523872  314.682122  -72.939323   \n",
       "1.0000      42.242217  -57.305508  282.170831  198.061386   14.363544   \n",
       "10.0000     21.174004    1.659796   63.659772   48.493240   18.421492   \n",
       "100.0000     2.858979    0.629452    7.540604    5.849997    2.710879   \n",
       "1000.0000    0.295726    0.069290    0.769004    0.597829    0.282900   \n",
       "10000.0000   0.029674    0.006995    0.077054    0.059915    0.028412   \n",
       "\n",
       "                    s2          s3          s4          s5         s6  \n",
       "alpha                                                                  \n",
       "0.0000      561.214533  153.884786  126.734316  861.121400  52.419828  \n",
       "0.0001      551.553259  148.578680  125.355917  856.480254  52.467627  \n",
       "0.0010      475.274718  106.786540  114.632063  819.739542  52.872100  \n",
       "0.0100      152.663678  -66.060583   75.611090  659.869402  55.828128  \n",
       "0.1000      -80.590053 -174.466515   83.616653  484.363285  73.584154  \n",
       "1.0000      -22.551274 -136.930053  102.023193  260.104308  98.552274  \n",
       "10.0000      12.875448  -38.915435   38.842464   61.612405  35.505355  \n",
       "100.0000      2.142134   -4.834047    5.108223    7.448466   4.576129  \n",
       "1000.0000     0.225936   -0.495607    0.527031    0.761497   0.471029  \n",
       "10000.0000    0.022715   -0.049686    0.052870    0.076321   0.047241  "
      ]
     },
     "execution_count": 14,
     "metadata": {},
     "output_type": "execute_result"
    }
   ],
   "source": [
    "coef_df = pd.DataFrame(input_array,columns=data.feature_names)\n",
    "coef_df['alpha'] = alphas\n",
    "coef_df.set_index('alpha')"
   ]
  },
  {
   "cell_type": "code",
   "execution_count": 15,
   "id": "02e56359",
   "metadata": {},
   "outputs": [],
   "source": [
    "alphas = [0,0.0001,0.0005,0.001,0.005,0.1,0.5,1,5,10]\n",
    "\n",
    "coefs = []\n",
    "\n",
    "for i in alphas:\n",
    "    reg = Ridge(alpha=i)\n",
    "    reg.fit(X_train,y_train)\n",
    "    \n",
    "    coefs.append(reg.coef_.tolist())"
   ]
  },
  {
   "cell_type": "code",
   "execution_count": 16,
   "id": "8b3f3c6f",
   "metadata": {},
   "outputs": [],
   "source": [
    "input_array = np.array(coefs).T"
   ]
  },
  {
   "cell_type": "code",
   "execution_count": 17,
   "id": "238fb787",
   "metadata": {},
   "outputs": [
    {
     "data": {
      "text/plain": [
       "<matplotlib.legend.Legend at 0x241952d3f70>"
      ]
     },
     "execution_count": 17,
     "metadata": {},
     "output_type": "execute_result"
    },
    {
     "data": {
      "image/png": "[encoded data removed]",
      "text/plain": [
       "<Figure size 1080x576 with 1 Axes>"
      ]
     },
     "metadata": {
      "needs_background": "light"
     },
     "output_type": "display_data"
    }
   ],
   "source": [
    "plt.figure(figsize=(15,8))\n",
    "plt.plot(alphas,np.zeros(len(alphas)),color='black',linewidth=5)\n",
    "for i in range(input_array.shape[0]):\n",
    "    plt.plot(alphas,input_array[i],label=data.feature_names[i])\n",
    "plt.legend()"
   ]
  },
  {
   "cell_type": "markdown",
   "id": "101a157b",
   "metadata": {},
   "source": [
    "## 3. Impact on Bias and Variance"
   ]
  },
  {
   "cell_type": "code",
   "execution_count": 18,
   "id": "1cd23224",
   "metadata": {},
   "outputs": [
    {
     "data": {
      "image/png": "[encoded data removed]",
      "text/plain": [
       "<Figure size 432x288 with 1 Axes>"
      ]
     },
     "metadata": {
      "needs_background": "light"
     },
     "output_type": "display_data"
    }
   ],
   "source": [
    "m = 100\n",
    "X = 5 * np.random.rand(m, 1) - 2\n",
    "y = 0.7 * X ** 2 - 2 * X + 3 + np.random.randn(m, 1)\n",
    "\n",
    "plt.scatter(X, y)\n",
    "plt.show()"
   ]
  },
  {
   "cell_type": "code",
   "execution_count": 19,
   "id": "2137ce5f",
   "metadata": {},
   "outputs": [],
   "source": [
    "X_train,X_test,y_train,y_test = train_test_split(X.reshape(100,1),y.reshape(100),test_size=0.2,random_state=2)"
   ]
  },
  {
   "cell_type": "code",
   "execution_count": 20,
   "id": "ccf70e08",
   "metadata": {},
   "outputs": [],
   "source": [
    "from sklearn.preprocessing import PolynomialFeatures\n",
    "poly = PolynomialFeatures(degree=15)\n",
    "\n",
    "X_train = poly.fit_transform(X_train)\n",
    "X_test = poly.transform(X_test)"
   ]
  },
  {
   "cell_type": "code",
   "execution_count": 21,
   "id": "75628a13",
   "metadata": {},
   "outputs": [
    {
     "ename": "ModuleNotFoundError",
     "evalue": "No module named 'mlxtend'",
     "output_type": "error",
     "traceback": [
      "\u001b[1;31m---------------------------------------------------------------------------\u001b[0m",
      "\u001b[1;31mModuleNotFoundError\u001b[0m                       Traceback (most recent call last)",
      "\u001b[1;32m<ipython-input-21-f1c2bcf70f12>\u001b[0m in \u001b[0;36m<module>\u001b[1;34m\u001b[0m\n\u001b[1;32m----> 1\u001b[1;33m \u001b[1;32mfrom\u001b[0m \u001b[0mmlxtend\u001b[0m\u001b[1;33m.\u001b[0m\u001b[0mevaluate\u001b[0m \u001b[1;32mimport\u001b[0m \u001b[0mbias_variance_decomp\u001b[0m\u001b[1;33m\u001b[0m\u001b[1;33m\u001b[0m\u001b[0m\n\u001b[0m\u001b[0;32m      2\u001b[0m \u001b[1;33m\u001b[0m\u001b[0m\n\u001b[0;32m      3\u001b[0m \u001b[0malphas\u001b[0m \u001b[1;33m=\u001b[0m \u001b[0mnp\u001b[0m\u001b[1;33m.\u001b[0m\u001b[0mlinspace\u001b[0m\u001b[1;33m(\u001b[0m\u001b[1;36m0\u001b[0m\u001b[1;33m,\u001b[0m\u001b[1;36m30\u001b[0m\u001b[1;33m,\u001b[0m\u001b[1;36m100\u001b[0m\u001b[1;33m)\u001b[0m\u001b[1;33m\u001b[0m\u001b[1;33m\u001b[0m\u001b[0m\n\u001b[0;32m      4\u001b[0m \u001b[1;33m\u001b[0m\u001b[0m\n\u001b[0;32m      5\u001b[0m \u001b[0mloss\u001b[0m \u001b[1;33m=\u001b[0m \u001b[1;33m[\u001b[0m\u001b[1;33m]\u001b[0m\u001b[1;33m\u001b[0m\u001b[1;33m\u001b[0m\u001b[0m\n",
      "\u001b[1;31mModuleNotFoundError\u001b[0m: No module named 'mlxtend'"
     ]
    }
   ],
   "source": [
    "from mlxtend.evaluate import bias_variance_decomp\n",
    "\n",
    "alphas = np.linspace(0,30,100)\n",
    "\n",
    "loss = []\n",
    "bias = []\n",
    "variance = []\n",
    "\n",
    "for i in alphas:\n",
    "    reg = Ridge(alpha=i)\n",
    "    avg_expected_loss, avg_bias, avg_var = bias_variance_decomp(\n",
    "        reg, X_train, y_train, X_test, y_test, \n",
    "        loss='mse',\n",
    "        random_seed=123)\n",
    "    loss.append(avg_expected_loss)\n",
    "    bias.append(avg_bias)\n",
    "    variance.append(avg_var)"
   ]
  },
  {
   "cell_type": "code",
   "execution_count": null,
   "id": "d7ab73dc",
   "metadata": {},
   "outputs": [],
   "source": [
    "plt.plot(alphas,loss,label='loss')\n",
    "plt.plot(alphas,bias,label='Bias')\n",
    "plt.plot(alphas,variance,label='Variance')\n",
    "plt.ylim(0,5)\n",
    "plt.xlabel('Alpha')\n",
    "plt.legend()"
   ]
  },
  {
   "cell_type": "markdown",
   "id": "dd5cb150",
   "metadata": {},
   "source": [
    "## 4. Effect of Regularization on Loss Function"
   ]
  },
  {
   "cell_type": "code",
   "execution_count": null,
   "id": "11074cf1",
   "metadata": {},
   "outputs": [],
   "source": [
    "from sklearn.datasets import make_regression\n",
    "\n",
    "X,y = make_regression(n_samples=100, n_features=1, n_informative=1, n_targets=1,noise=20,random_state=13)\n",
    "\n",
    "plt.scatter(X,y)\n",
    "\n",
    "from sklearn.linear_model import LinearRegression\n",
    "\n",
    "reg = LinearRegression()\n",
    "reg.fit(X,y)\n",
    "print(reg.coef_)\n",
    "print(reg.intercept_)"
   ]
  },
  {
   "cell_type": "code",
   "execution_count": 22,
   "id": "20ca4a66",
   "metadata": {},
   "outputs": [],
   "source": [
    "def cal_loss(m,alpha):\n",
    "    return np.sum((y - m*X.ravel() + 2.29)**2) + alpha*m*m"
   ]
  },
  {
   "cell_type": "code",
   "execution_count": 23,
   "id": "ac86ef50",
   "metadata": {},
   "outputs": [],
   "source": [
    "def predict(m):\n",
    "    return m*X - 2.29"
   ]
  },
  {
   "cell_type": "code",
   "execution_count": 24,
   "id": "bdb2e4fc",
   "metadata": {},
   "outputs": [
    {
     "data": {
      "image/png": "[encoded data removed]",
      "text/plain": [
       "<Figure size 288x432 with 1 Axes>"
      ]
     },
     "metadata": {
      "needs_background": "light"
     },
     "output_type": "display_data"
    }
   ],
   "source": [
    "m = np.linspace(-45,100,100)\n",
    "plt.figure(figsize=(4,6))\n",
    "for j in [0,10,20,30,40,50,100]:\n",
    "    loss = []\n",
    "    for i in range(m.shape[0]):\n",
    "        loss_i = cal_loss(m[i],j)\n",
    "        loss.append(loss_i)\n",
    "    plt.plot(m,loss,label='alpha = {}'.format(j))\n",
    "plt.legend()\n",
    "plt.xlabel('Alpha')\n",
    "plt.ylabel('Loss')\n",
    "plt.show()"
   ]
  },
  {
   "cell_type": "markdown",
   "id": "752a28f0",
   "metadata": {},
   "source": [
    "### for 2 coefficients\n",
    "<img src='https://explained.ai/regularization/images/lagrange-animation.gif'>"
   ]
  },
  {
   "cell_type": "code",
   "execution_count": null,
   "id": "5527872c",
   "metadata": {},
   "outputs": [],
   "source": []
  }
 ],
 "metadata": {
  "kernelspec": {
   "display_name": "Python 3",
   "language": "python",
   "name": "python3"
  },
  "language_info": {
   "codemirror_mode": {
    "name": "ipython",
    "version": 3
   },
   "file_extension": ".py",
   "mimetype": "text/x-python",
   "name": "python",
   "nbconvert_exporter": "python",
   "pygments_lexer": "ipython3",
   "version": "3.8.8"
  }
 },
 "nbformat": 4,
 "nbformat_minor": 5
}
