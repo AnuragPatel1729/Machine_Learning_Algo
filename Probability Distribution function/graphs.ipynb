{
 "cells": [
  {
   "cell_type": "code",
   "execution_count": 1,
   "id": "c4d92eef",
   "metadata": {},
   "outputs": [],
   "source": [
    "import pandas as pd\n",
    "import numpy as np"
   ]
  },
  {
   "cell_type": "code",
   "execution_count": 2,
   "id": "5570b8e4",
   "metadata": {},
   "outputs": [],
   "source": [
    "import random"
   ]
  },
  {
   "cell_type": "code",
   "execution_count": 14,
   "id": "29c75572",
   "metadata": {},
   "outputs": [],
   "source": [
    "l = []\n",
    "for i in range(10000):\n",
    "    a = random.randint(1,6)\n",
    "    b = random.randint(1,6)\n",
    "    l.append(a+b)"
   ]
  },
  {
   "cell_type": "code",
   "execution_count": 5,
   "id": "15253aef",
   "metadata": {},
   "outputs": [
    {
     "data": {
      "text/plain": [
       "10000"
      ]
     },
     "execution_count": 5,
     "metadata": {},
     "output_type": "execute_result"
    }
   ],
   "source": [
    "len(l)"
   ]
  },
  {
   "cell_type": "code",
   "execution_count": 16,
   "id": "75e5e518",
   "metadata": {},
   "outputs": [
    {
     "data": {
      "text/plain": [
       "[6, 5, 6, 3, 8]"
      ]
     },
     "execution_count": 16,
     "metadata": {},
     "output_type": "execute_result"
    }
   ],
   "source": [
    "l[:5]"
   ]
  },
  {
   "cell_type": "code",
   "execution_count": 18,
   "id": "fdea9f74",
   "metadata": {},
   "outputs": [],
   "source": [
    "s = (pd.Series(l).value_counts()/pd.Series(l).value_counts().sum()).sort_index()"
   ]
  },
  {
   "cell_type": "code",
   "execution_count": 19,
   "id": "f3796ac6",
   "metadata": {},
   "outputs": [
    {
     "data": {
      "text/plain": [
       "2     0.0288\n",
       "3     0.0534\n",
       "4     0.0828\n",
       "5     0.1107\n",
       "6     0.1395\n",
       "7     0.1701\n",
       "8     0.1365\n",
       "9     0.1123\n",
       "10    0.0884\n",
       "11    0.0514\n",
       "12    0.0261\n",
       "Name: count, dtype: float64"
      ]
     },
     "execution_count": 19,
     "metadata": {},
     "output_type": "execute_result"
    }
   ],
   "source": [
    "s"
   ]
  },
  {
   "cell_type": "code",
   "execution_count": 20,
   "id": "62f3ad2c",
   "metadata": {},
   "outputs": [
    {
     "data": {
      "text/plain": [
       "<Axes: >"
      ]
     },
     "execution_count": 20,
     "metadata": {},
     "output_type": "execute_result"
    },
    {
     "data": {
      "image/png": "[encoded data removed]",
      "text/plain": [
       "<Figure size 640x480 with 1 Axes>"
      ]
     },
     "metadata": {},
     "output_type": "display_data"
    }
   ],
   "source": [
    "s.plot(kind ='bar')"
   ]
  },
  {
   "cell_type": "markdown",
   "id": "9d9d7861",
   "metadata": {},
   "source": [
    "# Parametric Density Estimation"
   ]
  },
  {
   "cell_type": "code",
   "execution_count": null,
   "id": "4af2d9a2",
   "metadata": {},
   "outputs": [],
   "source": []
  }
 ],
 "metadata": {
  "kernelspec": {
   "display_name": "Python 3 (ipykernel)",
   "language": "python",
   "name": "python3"
  },
  "language_info": {
   "codemirror_mode": {
    "name": "ipython",
    "version": 3
   },
   "file_extension": ".py",
   "mimetype": "text/x-python",
   "name": "python",
   "nbconvert_exporter": "python",
   "pygments_lexer": "ipython3",
   "version": "3.11.5"
  }
 },
 "nbformat": 4,
 "nbformat_minor": 5
}
