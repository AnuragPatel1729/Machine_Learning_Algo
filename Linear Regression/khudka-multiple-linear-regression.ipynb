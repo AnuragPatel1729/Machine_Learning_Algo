{
 "cells": [
  {
   "cell_type": "code",
   "execution_count": 1,
   "id": "5d32a6bf",
   "metadata": {},
   "outputs": [],
   "source": [
    "import numpy as np\n",
    "from sklearn.datasets import load_diabetes"
   ]
  },
  {
   "cell_type": "code",
   "execution_count": 2,
   "id": "34abd595",
   "metadata": {},
   "outputs": [],
   "source": [
    "X, y = load_diabetes(return_X_y=True)"
   ]
  },
  {
   "cell_type": "code",
   "execution_count": null,
   "id": "df97084f",
   "metadata": {},
   "outputs": [],
   "source": [
    "X"
   ]
  },
  {
   "cell_type": "code",
   "execution_count": 3,
   "id": "a9e1e623",
   "metadata": {},
   "outputs": [
    {
     "data": {
      "text/plain": [
       "(442, 10)"
      ]
     },
     "execution_count": 3,
     "metadata": {},
     "output_type": "execute_result"
    }
   ],
   "source": [
    "X.shape"
   ]
  },
  {
   "cell_type": "code",
   "execution_count": null,
   "id": "638172f0",
   "metadata": {},
   "outputs": [],
   "source": [
    "y"
   ]
  },
  {
   "cell_type": "code",
   "execution_count": 4,
   "id": "672a90d0",
   "metadata": {},
   "outputs": [
    {
     "data": {
      "text/plain": [
       "(442,)"
      ]
     },
     "execution_count": 4,
     "metadata": {},
     "output_type": "execute_result"
    }
   ],
   "source": [
    "y.shape"
   ]
  },
  {
   "cell_type": "code",
   "execution_count": 5,
   "id": "83c06258",
   "metadata": {},
   "outputs": [],
   "source": [
    "from sklearn.model_selection import train_test_split"
   ]
  },
  {
   "cell_type": "code",
   "execution_count": 6,
   "id": "90ab814d",
   "metadata": {},
   "outputs": [],
   "source": [
    "X_train, X_test, y_train, y_test = train_test_split(X, y, test_size=0.2, random_state=2)"
   ]
  },
  {
   "cell_type": "code",
   "execution_count": 7,
   "id": "94c4b59e",
   "metadata": {},
   "outputs": [],
   "source": [
    "from sklearn.linear_model import LinearRegression\n",
    "lr = LinearRegression()"
   ]
  },
  {
   "cell_type": "code",
   "execution_count": 9,
   "id": "e9e297e7",
   "metadata": {},
   "outputs": [
    {
     "data": {
      "text/plain": [
       "array([[-0.00188202, -0.04464164, -0.06979687, ..., -0.03949338,\n",
       "        -0.06291295,  0.04034337],\n",
       "       [-0.00914709, -0.04464164,  0.01103904, ..., -0.03949338,\n",
       "         0.01703713, -0.0052198 ],\n",
       "       [ 0.02354575,  0.05068012, -0.02021751, ..., -0.03949338,\n",
       "        -0.09643322, -0.01764613],\n",
       "       ...,\n",
       "       [ 0.06350368,  0.05068012, -0.00405033, ..., -0.00259226,\n",
       "         0.08449528, -0.01764613],\n",
       "       [-0.05273755,  0.05068012, -0.01806189, ...,  0.1081111 ,\n",
       "         0.03605579, -0.04249877],\n",
       "       [ 0.00175052,  0.05068012,  0.05954058, ...,  0.1081111 ,\n",
       "         0.06898221,  0.12732762]])"
      ]
     },
     "execution_count": 9,
     "metadata": {},
     "output_type": "execute_result"
    }
   ],
   "source": [
    "X_train"
   ]
  },
  {
   "cell_type": "code",
   "execution_count": 10,
   "id": "88f79a33",
   "metadata": {},
   "outputs": [
    {
     "data": {
      "text/plain": [
       "LinearRegression()"
      ]
     },
     "execution_count": 10,
     "metadata": {},
     "output_type": "execute_result"
    }
   ],
   "source": [
    "lr.fit(X_train, y_train)"
   ]
  },
  {
   "cell_type": "code",
   "execution_count": 11,
   "id": "faa09bbb",
   "metadata": {},
   "outputs": [],
   "source": [
    "y_pred = lr.predict(X_test)"
   ]
  },
  {
   "cell_type": "code",
   "execution_count": 12,
   "id": "eb5362c5",
   "metadata": {},
   "outputs": [],
   "source": [
    "from sklearn.metrics import r2_score"
   ]
  },
  {
   "cell_type": "code",
   "execution_count": 13,
   "id": "448597ab",
   "metadata": {},
   "outputs": [
    {
     "name": "stdout",
     "output_type": "stream",
     "text": [
      "R2 score 0.4399387660024645\n"
     ]
    }
   ],
   "source": [
    "print('R2 score',r2_score(y_test, y_pred))"
   ]
  },
  {
   "cell_type": "code",
   "execution_count": 14,
   "id": "7d63579a",
   "metadata": {},
   "outputs": [
    {
     "data": {
      "text/plain": [
       "array([  -9.16088483, -205.46225988,  516.68462383,  340.62734108,\n",
       "       -895.54360867,  561.21453306,  153.88478595,  126.73431596,\n",
       "        861.12139955,   52.41982836])"
      ]
     },
     "execution_count": 14,
     "metadata": {},
     "output_type": "execute_result"
    }
   ],
   "source": [
    "lr.coef_"
   ]
  },
  {
   "cell_type": "code",
   "execution_count": 15,
   "id": "212fc64b",
   "metadata": {},
   "outputs": [
    {
     "data": {
      "text/plain": [
       "151.88334520854633"
      ]
     },
     "execution_count": 15,
     "metadata": {},
     "output_type": "execute_result"
    }
   ],
   "source": [
    "lr.intercept_"
   ]
  },
  {
   "cell_type": "code",
   "execution_count": 16,
   "id": "e6e89681",
   "metadata": {},
   "outputs": [
    {
     "data": {
      "text/plain": [
       "array([[-0.00188202, -0.04464164, -0.06979687, ..., -0.03949338,\n",
       "        -0.06291295,  0.04034337],\n",
       "       [-0.00914709, -0.04464164,  0.01103904, ..., -0.03949338,\n",
       "         0.01703713, -0.0052198 ],\n",
       "       [ 0.02354575,  0.05068012, -0.02021751, ..., -0.03949338,\n",
       "        -0.09643322, -0.01764613],\n",
       "       ...,\n",
       "       [ 0.06350368,  0.05068012, -0.00405033, ..., -0.00259226,\n",
       "         0.08449528, -0.01764613],\n",
       "       [-0.05273755,  0.05068012, -0.01806189, ...,  0.1081111 ,\n",
       "         0.03605579, -0.04249877],\n",
       "       [ 0.00175052,  0.05068012,  0.05954058, ...,  0.1081111 ,\n",
       "         0.06898221,  0.12732762]])"
      ]
     },
     "execution_count": 16,
     "metadata": {},
     "output_type": "execute_result"
    }
   ],
   "source": [
    "X_train"
   ]
  },
  {
   "cell_type": "markdown",
   "id": "2c16e2bb",
   "metadata": {},
   "source": [
    "# Making our own Multiple Linear Regression"
   ]
  },
  {
   "cell_type": "code",
   "execution_count": 17,
   "id": "7466ac1b",
   "metadata": {},
   "outputs": [],
   "source": [
    "class MeraLR:\n",
    "    \n",
    "    def __init__(self):\n",
    "        self.coef_ = None\n",
    "        self.intercept_ = None\n",
    "    \n",
    "    def fit(self, X_train, y_train):\n",
    "        X_train = np.insert(X_train,0 ,1, axis=1)\n",
    "        print(X_train.shape)\n",
    "        print(X_train)\n",
    "        betas = np.linalg.inv(np.dot(X_train.T, X_train)).dot(X_train.T).dot(y_train)\n",
    "        self.intercept_ = betas[0]\n",
    "        self.coef_ = betas[1:]\n",
    "        \n",
    "    def predict(self, X_test):\n",
    "        y_pred = np.dot(X_test, self.coef_) + self.intercept_\n",
    "        return y_pred"
   ]
  },
  {
   "cell_type": "code",
   "execution_count": 18,
   "id": "390241fe",
   "metadata": {},
   "outputs": [
    {
     "data": {
      "text/plain": [
       "(353,)"
      ]
     },
     "execution_count": 18,
     "metadata": {},
     "output_type": "execute_result"
    }
   ],
   "source": [
    "y_train.shape"
   ]
  },
  {
   "cell_type": "code",
   "execution_count": 19,
   "id": "49e6754d",
   "metadata": {},
   "outputs": [
    {
     "data": {
      "text/plain": [
       "(353, 10)"
      ]
     },
     "execution_count": 19,
     "metadata": {},
     "output_type": "execute_result"
    }
   ],
   "source": [
    "X_train.shape"
   ]
  },
  {
   "cell_type": "code",
   "execution_count": 20,
   "id": "69b21899",
   "metadata": {},
   "outputs": [],
   "source": [
    "reg = MeraLR()"
   ]
  },
  {
   "cell_type": "code",
   "execution_count": 21,
   "id": "ce905114",
   "metadata": {},
   "outputs": [
    {
     "name": "stdout",
     "output_type": "stream",
     "text": [
      "(353, 11)\n",
      "[[ 1.         -0.00188202 -0.04464164 ... -0.03949338 -0.06291295\n",
      "   0.04034337]\n",
      " [ 1.         -0.00914709 -0.04464164 ... -0.03949338  0.01703713\n",
      "  -0.0052198 ]\n",
      " [ 1.          0.02354575  0.05068012 ... -0.03949338 -0.09643322\n",
      "  -0.01764613]\n",
      " ...\n",
      " [ 1.          0.06350368  0.05068012 ... -0.00259226  0.08449528\n",
      "  -0.01764613]\n",
      " [ 1.         -0.05273755  0.05068012 ...  0.1081111   0.03605579\n",
      "  -0.04249877]\n",
      " [ 1.          0.00175052  0.05068012 ...  0.1081111   0.06898221\n",
      "   0.12732762]]\n"
     ]
    }
   ],
   "source": [
    "reg.fit(X_train, y_train)"
   ]
  },
  {
   "cell_type": "code",
   "execution_count": null,
   "id": "b4cb7543",
   "metadata": {},
   "outputs": [],
   "source": []
  },
  {
   "cell_type": "code",
   "execution_count": 22,
   "id": "e9164fce",
   "metadata": {},
   "outputs": [],
   "source": [
    "pred = reg.predict(X_test)"
   ]
  },
  {
   "cell_type": "code",
   "execution_count": 23,
   "id": "1c6a662d",
   "metadata": {},
   "outputs": [
    {
     "name": "stdout",
     "output_type": "stream",
     "text": [
      "R2 score 0.43993876600246484\n"
     ]
    }
   ],
   "source": [
    "print('R2 score',r2_score(y_test, pred))"
   ]
  },
  {
   "cell_type": "code",
   "execution_count": 24,
   "id": "c1108ccd",
   "metadata": {},
   "outputs": [
    {
     "data": {
      "text/plain": [
       "array([  -9.16088483, -205.46225988,  516.68462383,  340.62734108,\n",
       "       -895.54360867,  561.21453306,  153.88478595,  126.73431596,\n",
       "        861.12139955,   52.41982836])"
      ]
     },
     "execution_count": 24,
     "metadata": {},
     "output_type": "execute_result"
    }
   ],
   "source": [
    "reg.coef_"
   ]
  },
  {
   "cell_type": "code",
   "execution_count": 25,
   "id": "155f7fe0",
   "metadata": {},
   "outputs": [
    {
     "data": {
      "text/plain": [
       "151.88334520854627"
      ]
     },
     "execution_count": 25,
     "metadata": {},
     "output_type": "execute_result"
    }
   ],
   "source": [
    "reg.intercept_"
   ]
  },
  {
   "cell_type": "code",
   "execution_count": 26,
   "id": "cafe9042",
   "metadata": {},
   "outputs": [],
   "source": [
    "import pandas as pd"
   ]
  },
  {
   "cell_type": "code",
   "execution_count": 27,
   "id": "e93117bf",
   "metadata": {},
   "outputs": [],
   "source": [
    "df = pd.read_csv('placement.csv')"
   ]
  },
  {
   "cell_type": "code",
   "execution_count": 28,
   "id": "71f5370c",
   "metadata": {},
   "outputs": [
    {
     "data": {
      "text/html": [
       "<div>\n",
       "<style scoped>\n",
       "    .dataframe tbody tr th:only-of-type {\n",
       "        vertical-align: middle;\n",
       "    }\n",
       "\n",
       "    .dataframe tbody tr th {\n",
       "        vertical-align: top;\n",
       "    }\n",
       "\n",
       "    .dataframe thead th {\n",
       "        text-align: right;\n",
       "    }\n",
       "</style>\n",
       "<table border=\"1\" class=\"dataframe\">\n",
       "  <thead>\n",
       "    <tr style=\"text-align: right;\">\n",
       "      <th></th>\n",
       "      <th>cgpa</th>\n",
       "      <th>package</th>\n",
       "    </tr>\n",
       "  </thead>\n",
       "  <tbody>\n",
       "    <tr>\n",
       "      <th>0</th>\n",
       "      <td>6.89</td>\n",
       "      <td>3.26</td>\n",
       "    </tr>\n",
       "    <tr>\n",
       "      <th>1</th>\n",
       "      <td>5.12</td>\n",
       "      <td>1.98</td>\n",
       "    </tr>\n",
       "    <tr>\n",
       "      <th>2</th>\n",
       "      <td>7.82</td>\n",
       "      <td>3.25</td>\n",
       "    </tr>\n",
       "    <tr>\n",
       "      <th>3</th>\n",
       "      <td>7.42</td>\n",
       "      <td>3.67</td>\n",
       "    </tr>\n",
       "    <tr>\n",
       "      <th>4</th>\n",
       "      <td>6.94</td>\n",
       "      <td>3.57</td>\n",
       "    </tr>\n",
       "  </tbody>\n",
       "</table>\n",
       "</div>"
      ],
      "text/plain": [
       "   cgpa  package\n",
       "0  6.89     3.26\n",
       "1  5.12     1.98\n",
       "2  7.82     3.25\n",
       "3  7.42     3.67\n",
       "4  6.94     3.57"
      ]
     },
     "execution_count": 28,
     "metadata": {},
     "output_type": "execute_result"
    }
   ],
   "source": [
    "df.head()"
   ]
  },
  {
   "cell_type": "code",
   "execution_count": 29,
   "id": "98d6a407",
   "metadata": {},
   "outputs": [],
   "source": [
    "X = df.iloc[:,0:1]\n",
    "y = df.iloc[:,-1]"
   ]
  },
  {
   "cell_type": "code",
   "execution_count": 30,
   "id": "7dfdac6e",
   "metadata": {},
   "outputs": [],
   "source": [
    "X_train1, X_test1, y_train1, y_test1 = train_test_split(X, y, test_size=0.2, random_state=2)"
   ]
  },
  {
   "cell_type": "code",
   "execution_count": 31,
   "id": "78bc6175",
   "metadata": {},
   "outputs": [
    {
     "data": {
      "text/html": [
       "<div>\n",
       "<style scoped>\n",
       "    .dataframe tbody tr th:only-of-type {\n",
       "        vertical-align: middle;\n",
       "    }\n",
       "\n",
       "    .dataframe tbody tr th {\n",
       "        vertical-align: top;\n",
       "    }\n",
       "\n",
       "    .dataframe thead th {\n",
       "        text-align: right;\n",
       "    }\n",
       "</style>\n",
       "<table border=\"1\" class=\"dataframe\">\n",
       "  <thead>\n",
       "    <tr style=\"text-align: right;\">\n",
       "      <th></th>\n",
       "      <th>cgpa</th>\n",
       "    </tr>\n",
       "  </thead>\n",
       "  <tbody>\n",
       "    <tr>\n",
       "      <th>137</th>\n",
       "      <td>7.14</td>\n",
       "    </tr>\n",
       "    <tr>\n",
       "      <th>163</th>\n",
       "      <td>8.93</td>\n",
       "    </tr>\n",
       "    <tr>\n",
       "      <th>111</th>\n",
       "      <td>5.42</td>\n",
       "    </tr>\n",
       "    <tr>\n",
       "      <th>123</th>\n",
       "      <td>5.10</td>\n",
       "    </tr>\n",
       "    <tr>\n",
       "      <th>109</th>\n",
       "      <td>7.77</td>\n",
       "    </tr>\n",
       "  </tbody>\n",
       "</table>\n",
       "</div>"
      ],
      "text/plain": [
       "     cgpa\n",
       "137  7.14\n",
       "163  8.93\n",
       "111  5.42\n",
       "123  5.10\n",
       "109  7.77"
      ]
     },
     "execution_count": 31,
     "metadata": {},
     "output_type": "execute_result"
    }
   ],
   "source": [
    "X_train1.head()"
   ]
  },
  {
   "cell_type": "code",
   "execution_count": 32,
   "id": "66281878",
   "metadata": {},
   "outputs": [
    {
     "data": {
      "text/plain": [
       "(160,)"
      ]
     },
     "execution_count": 32,
     "metadata": {},
     "output_type": "execute_result"
    }
   ],
   "source": [
    "y_train1.shape"
   ]
  },
  {
   "cell_type": "code",
   "execution_count": 33,
   "id": "6ba7c7ee",
   "metadata": {},
   "outputs": [],
   "source": [
    "re = MeraLR()"
   ]
  },
  {
   "cell_type": "code",
   "execution_count": null,
   "id": "e68f8e25",
   "metadata": {},
   "outputs": [],
   "source": [
    "X_train1.shape"
   ]
  },
  {
   "cell_type": "code",
   "execution_count": null,
   "id": "6dc8af2e",
   "metadata": {},
   "outputs": [],
   "source": [
    "X_train1.head()"
   ]
  },
  {
   "cell_type": "code",
   "execution_count": null,
   "id": "06fd0691",
   "metadata": {},
   "outputs": [],
   "source": []
  },
  {
   "cell_type": "code",
   "execution_count": null,
   "id": "b7c8c99f",
   "metadata": {},
   "outputs": [],
   "source": []
  },
  {
   "cell_type": "code",
   "execution_count": null,
   "id": "e97f4d7c",
   "metadata": {},
   "outputs": [],
   "source": []
  },
  {
   "cell_type": "code",
   "execution_count": 34,
   "id": "c1743d15",
   "metadata": {},
   "outputs": [
    {
     "name": "stdout",
     "output_type": "stream",
     "text": [
      "(160, 2)\n",
      "[[1.   7.14]\n",
      " [1.   8.93]\n",
      " [1.   5.42]\n",
      " [1.   5.1 ]\n",
      " [1.   7.77]\n",
      " [1.   6.76]\n",
      " [1.   6.89]\n",
      " [1.   6.68]\n",
      " [1.   7.91]\n",
      " [1.   7.89]\n",
      " [1.   8.71]\n",
      " [1.   7.95]\n",
      " [1.   6.61]\n",
      " [1.   6.26]\n",
      " [1.   6.53]\n",
      " [1.   6.42]\n",
      " [1.   5.11]\n",
      " [1.   6.09]\n",
      " [1.   6.93]\n",
      " [1.   7.04]\n",
      " [1.   5.94]\n",
      " [1.   6.05]\n",
      " [1.   5.83]\n",
      " [1.   5.95]\n",
      " [1.   9.31]\n",
      " [1.   5.58]\n",
      " [1.   7.88]\n",
      " [1.   6.13]\n",
      " [1.   7.76]\n",
      " [1.   4.85]\n",
      " [1.   6.19]\n",
      " [1.   8.6 ]\n",
      " [1.   6.07]\n",
      " [1.   7.18]\n",
      " [1.   5.12]\n",
      " [1.   7.39]\n",
      " [1.   8.25]\n",
      " [1.   8.28]\n",
      " [1.   7.13]\n",
      " [1.   7.35]\n",
      " [1.   5.66]\n",
      " [1.   5.99]\n",
      " [1.   8.01]\n",
      " [1.   7.14]\n",
      " [1.   6.34]\n",
      " [1.   6.89]\n",
      " [1.   5.42]\n",
      " [1.   6.47]\n",
      " [1.   7.69]\n",
      " [1.   7.4 ]\n",
      " [1.   7.28]\n",
      " [1.   5.95]\n",
      " [1.   7.38]\n",
      " [1.   6.93]\n",
      " [1.   8.99]\n",
      " [1.   7.36]\n",
      " [1.   7.08]\n",
      " [1.   5.38]\n",
      " [1.   7.56]\n",
      " [1.   8.22]\n",
      " [1.   5.84]\n",
      " [1.   6.78]\n",
      " [1.   7.19]\n",
      " [1.   7.28]\n",
      " [1.   6.79]\n",
      " [1.   6.12]\n",
      " [1.   6.85]\n",
      " [1.   8.2 ]\n",
      " [1.   6.84]\n",
      " [1.   7.37]\n",
      " [1.   6.22]\n",
      " [1.   6.61]\n",
      " [1.   5.23]\n",
      " [1.   7.21]\n",
      " [1.   6.85]\n",
      " [1.   6.19]\n",
      " [1.   7.3 ]\n",
      " [1.   6.17]\n",
      " [1.   5.89]\n",
      " [1.   8.09]\n",
      " [1.   7.11]\n",
      " [1.   4.26]\n",
      " [1.   6.94]\n",
      " [1.   5.98]\n",
      " [1.   6.71]\n",
      " [1.   7.33]\n",
      " [1.   9.06]\n",
      " [1.   6.1 ]\n",
      " [1.   5.48]\n",
      " [1.   6.1 ]\n",
      " [1.   7.56]\n",
      " [1.   7.29]\n",
      " [1.   5.84]\n",
      " [1.   7.48]\n",
      " [1.   7.61]\n",
      " [1.   5.79]\n",
      " [1.   5.61]\n",
      " [1.   7.34]\n",
      " [1.   9.38]\n",
      " [1.   7.91]\n",
      " [1.   6.94]\n",
      " [1.   7.94]\n",
      " [1.   8.31]\n",
      " [1.   6.96]\n",
      " [1.   6.93]\n",
      " [1.   7.11]\n",
      " [1.   8.44]\n",
      " [1.   8.18]\n",
      " [1.   6.66]\n",
      " [1.   8.44]\n",
      " [1.   7.12]\n",
      " [1.   6.3 ]\n",
      " [1.   5.84]\n",
      " [1.   6.98]\n",
      " [1.   7.63]\n",
      " [1.   5.64]\n",
      " [1.   7.43]\n",
      " [1.   8.87]\n",
      " [1.   7.84]\n",
      " [1.   5.84]\n",
      " [1.   9.58]\n",
      " [1.   8.37]\n",
      " [1.   7.63]\n",
      " [1.   6.31]\n",
      " [1.   6.5 ]\n",
      " [1.   8.11]\n",
      " [1.   6.07]\n",
      " [1.   4.73]\n",
      " [1.   7.3 ]\n",
      " [1.   6.51]\n",
      " [1.   7.28]\n",
      " [1.   6.92]\n",
      " [1.   6.35]\n",
      " [1.   8.62]\n",
      " [1.   7.05]\n",
      " [1.   9.26]\n",
      " [1.   6.33]\n",
      " [1.   6.22]\n",
      " [1.   6.94]\n",
      " [1.   5.13]\n",
      " [1.   8.13]\n",
      " [1.   5.9 ]\n",
      " [1.   9.04]\n",
      " [1.   6.06]\n",
      " [1.   7.57]\n",
      " [1.   8.1 ]\n",
      " [1.   9.16]\n",
      " [1.   5.84]\n",
      " [1.   7.89]\n",
      " [1.   6.63]\n",
      " [1.   7.09]\n",
      " [1.   5.53]\n",
      " [1.   6.75]\n",
      " [1.   7.62]\n",
      " [1.   6.97]\n",
      " [1.   7.66]\n",
      " [1.   6.14]\n",
      " [1.   7.78]\n",
      " [1.   7.25]\n",
      " [1.   8.65]]\n"
     ]
    }
   ],
   "source": [
    "re.fit(X_train1.to_numpy(), y_train1)"
   ]
  },
  {
   "cell_type": "code",
   "execution_count": 37,
   "id": "38ea6bb0",
   "metadata": {},
   "outputs": [],
   "source": [
    "pred = re.predict(X_test1.to_numpy())"
   ]
  },
  {
   "cell_type": "code",
   "execution_count": 39,
   "id": "5e2e3036",
   "metadata": {},
   "outputs": [
    {
     "name": "stdout",
     "output_type": "stream",
     "text": [
      "R2 score 0.7807301475103857\n"
     ]
    }
   ],
   "source": [
    "print('R2 score',r2_score(y_test1, pred))"
   ]
  },
  {
   "cell_type": "code",
   "execution_count": 40,
   "id": "7ae04c7a",
   "metadata": {},
   "outputs": [
    {
     "name": "stdout",
     "output_type": "stream",
     "text": [
      "[0.55795197]\n"
     ]
    }
   ],
   "source": [
    "print(re.coef_)"
   ]
  },
  {
   "cell_type": "code",
   "execution_count": 41,
   "id": "e3cb00c6",
   "metadata": {},
   "outputs": [
    {
     "name": "stdout",
     "output_type": "stream",
     "text": [
      "-0.8961119222429297\n"
     ]
    }
   ],
   "source": [
    "print(re.intercept_)"
   ]
  },
  {
   "cell_type": "code",
   "execution_count": null,
   "id": "cdf3397d",
   "metadata": {},
   "outputs": [],
   "source": []
  }
 ],
 "metadata": {
  "kernelspec": {
   "display_name": "Python 3",
   "language": "python",
   "name": "python3"
  },
  "language_info": {
   "codemirror_mode": {
    "name": "ipython",
    "version": 3
   },
   "file_extension": ".py",
   "mimetype": "text/x-python",
   "name": "python",
   "nbconvert_exporter": "python",
   "pygments_lexer": "ipython3",
   "version": "3.8.8"
  }
 },
 "nbformat": 4,
 "nbformat_minor": 5
}
